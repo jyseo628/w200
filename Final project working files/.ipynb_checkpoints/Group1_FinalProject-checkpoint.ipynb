{
 "cells": [
  {
   "cell_type": "markdown",
   "metadata": {},
   "source": [
    "# W200 Section1 Final Project\n",
    "\n",
    "## Group1 - Danielle O'Neil, Irene Seo, Teresa Wang"
   ]
  },
  {
   "cell_type": "code",
   "execution_count": 1,
   "metadata": {},
   "outputs": [
    {
     "name": "stdout",
     "output_type": "stream",
     "text": [
      "/Users/briannaseo\n"
     ]
    }
   ],
   "source": [
    "!pwd"
   ]
  },
  {
   "cell_type": "code",
   "execution_count": 2,
   "metadata": {},
   "outputs": [
    {
     "name": "stdout",
     "output_type": "stream",
     "text": [
      "1.14.2\n"
     ]
    }
   ],
   "source": [
    "import numpy as np\n",
    "import pandas as pd\n",
    "import re\n",
    "import statsmodels.formula.api as sm\n",
    "\n",
    "\n",
    "pd.options.display.float_format = '{:,.2f}'.format\n",
    "\n",
    "import matplotlib.pyplot as plt\n",
    "%matplotlib inline  \n",
    "\n",
    "print (np.__version__)"
   ]
  },
  {
   "cell_type": "markdown",
   "metadata": {},
   "source": [
    "## 1. Data Exploration"
   ]
  },
  {
   "cell_type": "code",
   "execution_count": 3,
   "metadata": {},
   "outputs": [
    {
     "data": {
      "text/html": [
       "<div>\n",
       "<style scoped>\n",
       "    .dataframe tbody tr th:only-of-type {\n",
       "        vertical-align: middle;\n",
       "    }\n",
       "\n",
       "    .dataframe tbody tr th {\n",
       "        vertical-align: top;\n",
       "    }\n",
       "\n",
       "    .dataframe thead th {\n",
       "        text-align: right;\n",
       "    }\n",
       "</style>\n",
       "<table border=\"1\" class=\"dataframe\">\n",
       "  <thead>\n",
       "    <tr style=\"text-align: right;\">\n",
       "      <th></th>\n",
       "      <th>pclass</th>\n",
       "      <th>survived</th>\n",
       "      <th>name</th>\n",
       "      <th>sex</th>\n",
       "      <th>age</th>\n",
       "      <th>sibsp</th>\n",
       "      <th>parch</th>\n",
       "      <th>ticket</th>\n",
       "      <th>fare</th>\n",
       "      <th>cabin</th>\n",
       "      <th>embarked</th>\n",
       "      <th>boat</th>\n",
       "      <th>body</th>\n",
       "      <th>home.dest</th>\n",
       "    </tr>\n",
       "  </thead>\n",
       "  <tbody>\n",
       "    <tr>\n",
       "      <th>0</th>\n",
       "      <td>1</td>\n",
       "      <td>1</td>\n",
       "      <td>2</td>\n",
       "      <td>female</td>\n",
       "      <td>29.00</td>\n",
       "      <td>0</td>\n",
       "      <td>0</td>\n",
       "      <td>24160</td>\n",
       "      <td>211.34</td>\n",
       "      <td>B5</td>\n",
       "      <td>S</td>\n",
       "      <td>2</td>\n",
       "      <td>nan</td>\n",
       "      <td>St Louis, MO</td>\n",
       "    </tr>\n",
       "    <tr>\n",
       "      <th>1</th>\n",
       "      <td>1</td>\n",
       "      <td>1</td>\n",
       "      <td>Allison, Master. Hudson Trevor</td>\n",
       "      <td>male</td>\n",
       "      <td>0.92</td>\n",
       "      <td>1</td>\n",
       "      <td>2</td>\n",
       "      <td>113781</td>\n",
       "      <td>151.55</td>\n",
       "      <td>C22 C26</td>\n",
       "      <td>S</td>\n",
       "      <td>11</td>\n",
       "      <td>nan</td>\n",
       "      <td>Montreal, PQ / Chesterville, ON</td>\n",
       "    </tr>\n",
       "    <tr>\n",
       "      <th>2</th>\n",
       "      <td>1</td>\n",
       "      <td>0</td>\n",
       "      <td>Allison, Miss. Helen Loraine</td>\n",
       "      <td>female</td>\n",
       "      <td>2.00</td>\n",
       "      <td>1</td>\n",
       "      <td>2</td>\n",
       "      <td>113781</td>\n",
       "      <td>151.55</td>\n",
       "      <td>C22 C26</td>\n",
       "      <td>S</td>\n",
       "      <td>NaN</td>\n",
       "      <td>nan</td>\n",
       "      <td>Montreal, PQ / Chesterville, ON</td>\n",
       "    </tr>\n",
       "    <tr>\n",
       "      <th>3</th>\n",
       "      <td>1</td>\n",
       "      <td>0</td>\n",
       "      <td>Allison, Mr. Hudson Joshua Creighton</td>\n",
       "      <td>male</td>\n",
       "      <td>30.00</td>\n",
       "      <td>1</td>\n",
       "      <td>2</td>\n",
       "      <td>113781</td>\n",
       "      <td>151.55</td>\n",
       "      <td>C22 C26</td>\n",
       "      <td>S</td>\n",
       "      <td>NaN</td>\n",
       "      <td>135.00</td>\n",
       "      <td>Montreal, PQ / Chesterville, ON</td>\n",
       "    </tr>\n",
       "    <tr>\n",
       "      <th>4</th>\n",
       "      <td>1</td>\n",
       "      <td>0</td>\n",
       "      <td>Allison, Mrs. Hudson J C (Bessie Waldo Daniels)</td>\n",
       "      <td>female</td>\n",
       "      <td>25.00</td>\n",
       "      <td>1</td>\n",
       "      <td>2</td>\n",
       "      <td>113781</td>\n",
       "      <td>151.55</td>\n",
       "      <td>C22 C26</td>\n",
       "      <td>S</td>\n",
       "      <td>NaN</td>\n",
       "      <td>nan</td>\n",
       "      <td>Montreal, PQ / Chesterville, ON</td>\n",
       "    </tr>\n",
       "  </tbody>\n",
       "</table>\n",
       "</div>"
      ],
      "text/plain": [
       "   pclass  survived                                             name     sex  \\\n",
       "0       1         1                                                2  female   \n",
       "1       1         1                   Allison, Master. Hudson Trevor    male   \n",
       "2       1         0                     Allison, Miss. Helen Loraine  female   \n",
       "3       1         0             Allison, Mr. Hudson Joshua Creighton    male   \n",
       "4       1         0  Allison, Mrs. Hudson J C (Bessie Waldo Daniels)  female   \n",
       "\n",
       "    age  sibsp  parch  ticket   fare    cabin embarked boat   body  \\\n",
       "0 29.00      0      0   24160 211.34       B5        S    2    nan   \n",
       "1  0.92      1      2  113781 151.55  C22 C26        S   11    nan   \n",
       "2  2.00      1      2  113781 151.55  C22 C26        S  NaN    nan   \n",
       "3 30.00      1      2  113781 151.55  C22 C26        S  NaN 135.00   \n",
       "4 25.00      1      2  113781 151.55  C22 C26        S  NaN    nan   \n",
       "\n",
       "                         home.dest  \n",
       "0                     St Louis, MO  \n",
       "1  Montreal, PQ / Chesterville, ON  \n",
       "2  Montreal, PQ / Chesterville, ON  \n",
       "3  Montreal, PQ / Chesterville, ON  \n",
       "4  Montreal, PQ / Chesterville, ON  "
      ]
     },
     "execution_count": 3,
     "metadata": {},
     "output_type": "execute_result"
    }
   ],
   "source": [
    "titanic = pd.read_excel(\"titanic3.xls\")\n",
    "titanic.head()"
   ]
  },
  {
   "cell_type": "code",
   "execution_count": 4,
   "metadata": {},
   "outputs": [
    {
     "data": {
      "text/html": [
       "<div>\n",
       "<style scoped>\n",
       "    .dataframe tbody tr th:only-of-type {\n",
       "        vertical-align: middle;\n",
       "    }\n",
       "\n",
       "    .dataframe tbody tr th {\n",
       "        vertical-align: top;\n",
       "    }\n",
       "\n",
       "    .dataframe thead th {\n",
       "        text-align: right;\n",
       "    }\n",
       "</style>\n",
       "<table border=\"1\" class=\"dataframe\">\n",
       "  <thead>\n",
       "    <tr style=\"text-align: right;\">\n",
       "      <th></th>\n",
       "      <th>pclass</th>\n",
       "      <th>survived</th>\n",
       "      <th>name</th>\n",
       "      <th>sex</th>\n",
       "      <th>age</th>\n",
       "      <th>sibsp</th>\n",
       "      <th>parch</th>\n",
       "      <th>ticket</th>\n",
       "      <th>fare</th>\n",
       "      <th>cabin</th>\n",
       "      <th>embarked</th>\n",
       "      <th>boat</th>\n",
       "      <th>body</th>\n",
       "      <th>home.dest</th>\n",
       "    </tr>\n",
       "  </thead>\n",
       "  <tbody>\n",
       "    <tr>\n",
       "      <th>count</th>\n",
       "      <td>1,309.00</td>\n",
       "      <td>1,309.00</td>\n",
       "      <td>1309</td>\n",
       "      <td>1309</td>\n",
       "      <td>1,046.00</td>\n",
       "      <td>1,309.00</td>\n",
       "      <td>1,309.00</td>\n",
       "      <td>1309</td>\n",
       "      <td>1,308.00</td>\n",
       "      <td>295</td>\n",
       "      <td>1307</td>\n",
       "      <td>486</td>\n",
       "      <td>121.00</td>\n",
       "      <td>745</td>\n",
       "    </tr>\n",
       "    <tr>\n",
       "      <th>unique</th>\n",
       "      <td>nan</td>\n",
       "      <td>nan</td>\n",
       "      <td>1307</td>\n",
       "      <td>2</td>\n",
       "      <td>nan</td>\n",
       "      <td>nan</td>\n",
       "      <td>nan</td>\n",
       "      <td>939</td>\n",
       "      <td>nan</td>\n",
       "      <td>186</td>\n",
       "      <td>3</td>\n",
       "      <td>28</td>\n",
       "      <td>nan</td>\n",
       "      <td>369</td>\n",
       "    </tr>\n",
       "    <tr>\n",
       "      <th>top</th>\n",
       "      <td>nan</td>\n",
       "      <td>nan</td>\n",
       "      <td>Kelly, Mr. James</td>\n",
       "      <td>male</td>\n",
       "      <td>nan</td>\n",
       "      <td>nan</td>\n",
       "      <td>nan</td>\n",
       "      <td>CA. 2343</td>\n",
       "      <td>nan</td>\n",
       "      <td>C23 C25 C27</td>\n",
       "      <td>S</td>\n",
       "      <td>13</td>\n",
       "      <td>nan</td>\n",
       "      <td>New York, NY</td>\n",
       "    </tr>\n",
       "    <tr>\n",
       "      <th>freq</th>\n",
       "      <td>nan</td>\n",
       "      <td>nan</td>\n",
       "      <td>2</td>\n",
       "      <td>843</td>\n",
       "      <td>nan</td>\n",
       "      <td>nan</td>\n",
       "      <td>nan</td>\n",
       "      <td>11</td>\n",
       "      <td>nan</td>\n",
       "      <td>6</td>\n",
       "      <td>914</td>\n",
       "      <td>39</td>\n",
       "      <td>nan</td>\n",
       "      <td>64</td>\n",
       "    </tr>\n",
       "    <tr>\n",
       "      <th>mean</th>\n",
       "      <td>2.29</td>\n",
       "      <td>0.38</td>\n",
       "      <td>NaN</td>\n",
       "      <td>NaN</td>\n",
       "      <td>29.88</td>\n",
       "      <td>0.50</td>\n",
       "      <td>0.39</td>\n",
       "      <td>NaN</td>\n",
       "      <td>33.30</td>\n",
       "      <td>NaN</td>\n",
       "      <td>NaN</td>\n",
       "      <td>NaN</td>\n",
       "      <td>160.81</td>\n",
       "      <td>NaN</td>\n",
       "    </tr>\n",
       "    <tr>\n",
       "      <th>std</th>\n",
       "      <td>0.84</td>\n",
       "      <td>0.49</td>\n",
       "      <td>NaN</td>\n",
       "      <td>NaN</td>\n",
       "      <td>14.41</td>\n",
       "      <td>1.04</td>\n",
       "      <td>0.87</td>\n",
       "      <td>NaN</td>\n",
       "      <td>51.76</td>\n",
       "      <td>NaN</td>\n",
       "      <td>NaN</td>\n",
       "      <td>NaN</td>\n",
       "      <td>97.70</td>\n",
       "      <td>NaN</td>\n",
       "    </tr>\n",
       "    <tr>\n",
       "      <th>min</th>\n",
       "      <td>1.00</td>\n",
       "      <td>0.00</td>\n",
       "      <td>NaN</td>\n",
       "      <td>NaN</td>\n",
       "      <td>0.17</td>\n",
       "      <td>0.00</td>\n",
       "      <td>0.00</td>\n",
       "      <td>NaN</td>\n",
       "      <td>0.00</td>\n",
       "      <td>NaN</td>\n",
       "      <td>NaN</td>\n",
       "      <td>NaN</td>\n",
       "      <td>1.00</td>\n",
       "      <td>NaN</td>\n",
       "    </tr>\n",
       "    <tr>\n",
       "      <th>25%</th>\n",
       "      <td>2.00</td>\n",
       "      <td>0.00</td>\n",
       "      <td>NaN</td>\n",
       "      <td>NaN</td>\n",
       "      <td>21.00</td>\n",
       "      <td>0.00</td>\n",
       "      <td>0.00</td>\n",
       "      <td>NaN</td>\n",
       "      <td>7.90</td>\n",
       "      <td>NaN</td>\n",
       "      <td>NaN</td>\n",
       "      <td>NaN</td>\n",
       "      <td>72.00</td>\n",
       "      <td>NaN</td>\n",
       "    </tr>\n",
       "    <tr>\n",
       "      <th>50%</th>\n",
       "      <td>3.00</td>\n",
       "      <td>0.00</td>\n",
       "      <td>NaN</td>\n",
       "      <td>NaN</td>\n",
       "      <td>28.00</td>\n",
       "      <td>0.00</td>\n",
       "      <td>0.00</td>\n",
       "      <td>NaN</td>\n",
       "      <td>14.45</td>\n",
       "      <td>NaN</td>\n",
       "      <td>NaN</td>\n",
       "      <td>NaN</td>\n",
       "      <td>155.00</td>\n",
       "      <td>NaN</td>\n",
       "    </tr>\n",
       "    <tr>\n",
       "      <th>75%</th>\n",
       "      <td>3.00</td>\n",
       "      <td>1.00</td>\n",
       "      <td>NaN</td>\n",
       "      <td>NaN</td>\n",
       "      <td>39.00</td>\n",
       "      <td>1.00</td>\n",
       "      <td>0.00</td>\n",
       "      <td>NaN</td>\n",
       "      <td>31.27</td>\n",
       "      <td>NaN</td>\n",
       "      <td>NaN</td>\n",
       "      <td>NaN</td>\n",
       "      <td>256.00</td>\n",
       "      <td>NaN</td>\n",
       "    </tr>\n",
       "    <tr>\n",
       "      <th>max</th>\n",
       "      <td>3.00</td>\n",
       "      <td>1.00</td>\n",
       "      <td>NaN</td>\n",
       "      <td>NaN</td>\n",
       "      <td>80.00</td>\n",
       "      <td>8.00</td>\n",
       "      <td>9.00</td>\n",
       "      <td>NaN</td>\n",
       "      <td>512.33</td>\n",
       "      <td>NaN</td>\n",
       "      <td>NaN</td>\n",
       "      <td>NaN</td>\n",
       "      <td>328.00</td>\n",
       "      <td>NaN</td>\n",
       "    </tr>\n",
       "  </tbody>\n",
       "</table>\n",
       "</div>"
      ],
      "text/plain": [
       "         pclass  survived              name   sex      age    sibsp    parch  \\\n",
       "count  1,309.00  1,309.00              1309  1309 1,046.00 1,309.00 1,309.00   \n",
       "unique      nan       nan              1307     2      nan      nan      nan   \n",
       "top         nan       nan  Kelly, Mr. James  male      nan      nan      nan   \n",
       "freq        nan       nan                 2   843      nan      nan      nan   \n",
       "mean       2.29      0.38               NaN   NaN    29.88     0.50     0.39   \n",
       "std        0.84      0.49               NaN   NaN    14.41     1.04     0.87   \n",
       "min        1.00      0.00               NaN   NaN     0.17     0.00     0.00   \n",
       "25%        2.00      0.00               NaN   NaN    21.00     0.00     0.00   \n",
       "50%        3.00      0.00               NaN   NaN    28.00     0.00     0.00   \n",
       "75%        3.00      1.00               NaN   NaN    39.00     1.00     0.00   \n",
       "max        3.00      1.00               NaN   NaN    80.00     8.00     9.00   \n",
       "\n",
       "          ticket     fare        cabin embarked boat   body     home.dest  \n",
       "count       1309 1,308.00          295     1307  486 121.00           745  \n",
       "unique       939      nan          186        3   28    nan           369  \n",
       "top     CA. 2343      nan  C23 C25 C27        S   13    nan  New York, NY  \n",
       "freq          11      nan            6      914   39    nan            64  \n",
       "mean         NaN    33.30          NaN      NaN  NaN 160.81           NaN  \n",
       "std          NaN    51.76          NaN      NaN  NaN  97.70           NaN  \n",
       "min          NaN     0.00          NaN      NaN  NaN   1.00           NaN  \n",
       "25%          NaN     7.90          NaN      NaN  NaN  72.00           NaN  \n",
       "50%          NaN    14.45          NaN      NaN  NaN 155.00           NaN  \n",
       "75%          NaN    31.27          NaN      NaN  NaN 256.00           NaN  \n",
       "max          NaN   512.33          NaN      NaN  NaN 328.00           NaN  "
      ]
     },
     "execution_count": 4,
     "metadata": {},
     "output_type": "execute_result"
    }
   ],
   "source": [
    "titanic.describe(include = \"all\")"
   ]
  },
  {
   "cell_type": "markdown",
   "metadata": {},
   "source": [
    "## 2. Data Cleansing\n",
    "\n",
    "### 2.1. Converting variables in a sensible type\n",
    "\n",
    "- pclass is a categorical variable, so we'll convert the type into \"category\" and add a new column."
   ]
  },
  {
   "cell_type": "code",
   "execution_count": 6,
   "metadata": {},
   "outputs": [
    {
     "data": {
      "text/plain": [
       "count      1309\n",
       "unique        3\n",
       "top       Third\n",
       "freq        709\n",
       "Name: cabin_class, dtype: object"
      ]
     },
     "execution_count": 6,
     "metadata": {},
     "output_type": "execute_result"
    }
   ],
   "source": [
    "ranges = [0,1,2,3]\n",
    "labels = [\"First\",\"Second\",\"Third\"]\n",
    "titanic[\"cabin_class\"] = pd.cut(titanic.pclass, ranges, labels = labels).astype(\"category\")\n",
    "titanic.cabin_class.describe()"
   ]
  },
  {
   "cell_type": "markdown",
   "metadata": {},
   "source": [
    "- We'd like to define different age groups in order to proceed our data analyses."
   ]
  },
  {
   "cell_type": "code",
   "execution_count": 7,
   "metadata": {},
   "outputs": [
    {
     "data": {
      "text/html": [
       "<div>\n",
       "<style scoped>\n",
       "    .dataframe tbody tr th:only-of-type {\n",
       "        vertical-align: middle;\n",
       "    }\n",
       "\n",
       "    .dataframe tbody tr th {\n",
       "        vertical-align: top;\n",
       "    }\n",
       "\n",
       "    .dataframe thead th {\n",
       "        text-align: right;\n",
       "    }\n",
       "</style>\n",
       "<table border=\"1\" class=\"dataframe\">\n",
       "  <thead>\n",
       "    <tr style=\"text-align: right;\">\n",
       "      <th></th>\n",
       "      <th>pclass</th>\n",
       "      <th>survived</th>\n",
       "      <th>name</th>\n",
       "      <th>sex</th>\n",
       "      <th>age</th>\n",
       "      <th>sibsp</th>\n",
       "      <th>parch</th>\n",
       "      <th>ticket</th>\n",
       "      <th>fare</th>\n",
       "      <th>cabin</th>\n",
       "      <th>embarked</th>\n",
       "      <th>boat</th>\n",
       "      <th>body</th>\n",
       "      <th>home.dest</th>\n",
       "      <th>cabin_class</th>\n",
       "      <th>age_group</th>\n",
       "    </tr>\n",
       "  </thead>\n",
       "  <tbody>\n",
       "    <tr>\n",
       "      <th>0</th>\n",
       "      <td>1</td>\n",
       "      <td>1</td>\n",
       "      <td>2</td>\n",
       "      <td>female</td>\n",
       "      <td>29.00</td>\n",
       "      <td>0</td>\n",
       "      <td>0</td>\n",
       "      <td>24160</td>\n",
       "      <td>211.34</td>\n",
       "      <td>B5</td>\n",
       "      <td>S</td>\n",
       "      <td>2</td>\n",
       "      <td>nan</td>\n",
       "      <td>St Louis, MO</td>\n",
       "      <td>First</td>\n",
       "      <td>20-30</td>\n",
       "    </tr>\n",
       "    <tr>\n",
       "      <th>1</th>\n",
       "      <td>1</td>\n",
       "      <td>1</td>\n",
       "      <td>Allison, Master. Hudson Trevor</td>\n",
       "      <td>male</td>\n",
       "      <td>0.92</td>\n",
       "      <td>1</td>\n",
       "      <td>2</td>\n",
       "      <td>113781</td>\n",
       "      <td>151.55</td>\n",
       "      <td>C22 C26</td>\n",
       "      <td>S</td>\n",
       "      <td>11</td>\n",
       "      <td>nan</td>\n",
       "      <td>Montreal, PQ / Chesterville, ON</td>\n",
       "      <td>First</td>\n",
       "      <td>0-10</td>\n",
       "    </tr>\n",
       "    <tr>\n",
       "      <th>2</th>\n",
       "      <td>1</td>\n",
       "      <td>0</td>\n",
       "      <td>Allison, Miss. Helen Loraine</td>\n",
       "      <td>female</td>\n",
       "      <td>2.00</td>\n",
       "      <td>1</td>\n",
       "      <td>2</td>\n",
       "      <td>113781</td>\n",
       "      <td>151.55</td>\n",
       "      <td>C22 C26</td>\n",
       "      <td>S</td>\n",
       "      <td>NaN</td>\n",
       "      <td>nan</td>\n",
       "      <td>Montreal, PQ / Chesterville, ON</td>\n",
       "      <td>First</td>\n",
       "      <td>0-10</td>\n",
       "    </tr>\n",
       "    <tr>\n",
       "      <th>3</th>\n",
       "      <td>1</td>\n",
       "      <td>0</td>\n",
       "      <td>Allison, Mr. Hudson Joshua Creighton</td>\n",
       "      <td>male</td>\n",
       "      <td>30.00</td>\n",
       "      <td>1</td>\n",
       "      <td>2</td>\n",
       "      <td>113781</td>\n",
       "      <td>151.55</td>\n",
       "      <td>C22 C26</td>\n",
       "      <td>S</td>\n",
       "      <td>NaN</td>\n",
       "      <td>135.00</td>\n",
       "      <td>Montreal, PQ / Chesterville, ON</td>\n",
       "      <td>First</td>\n",
       "      <td>20-30</td>\n",
       "    </tr>\n",
       "    <tr>\n",
       "      <th>4</th>\n",
       "      <td>1</td>\n",
       "      <td>0</td>\n",
       "      <td>Allison, Mrs. Hudson J C (Bessie Waldo Daniels)</td>\n",
       "      <td>female</td>\n",
       "      <td>25.00</td>\n",
       "      <td>1</td>\n",
       "      <td>2</td>\n",
       "      <td>113781</td>\n",
       "      <td>151.55</td>\n",
       "      <td>C22 C26</td>\n",
       "      <td>S</td>\n",
       "      <td>NaN</td>\n",
       "      <td>nan</td>\n",
       "      <td>Montreal, PQ / Chesterville, ON</td>\n",
       "      <td>First</td>\n",
       "      <td>20-30</td>\n",
       "    </tr>\n",
       "  </tbody>\n",
       "</table>\n",
       "</div>"
      ],
      "text/plain": [
       "   pclass  survived                                             name     sex  \\\n",
       "0       1         1                                                2  female   \n",
       "1       1         1                   Allison, Master. Hudson Trevor    male   \n",
       "2       1         0                     Allison, Miss. Helen Loraine  female   \n",
       "3       1         0             Allison, Mr. Hudson Joshua Creighton    male   \n",
       "4       1         0  Allison, Mrs. Hudson J C (Bessie Waldo Daniels)  female   \n",
       "\n",
       "    age  sibsp  parch  ticket   fare    cabin embarked boat   body  \\\n",
       "0 29.00      0      0   24160 211.34       B5        S    2    nan   \n",
       "1  0.92      1      2  113781 151.55  C22 C26        S   11    nan   \n",
       "2  2.00      1      2  113781 151.55  C22 C26        S  NaN    nan   \n",
       "3 30.00      1      2  113781 151.55  C22 C26        S  NaN 135.00   \n",
       "4 25.00      1      2  113781 151.55  C22 C26        S  NaN    nan   \n",
       "\n",
       "                         home.dest cabin_class age_group  \n",
       "0                     St Louis, MO       First     20-30  \n",
       "1  Montreal, PQ / Chesterville, ON       First      0-10  \n",
       "2  Montreal, PQ / Chesterville, ON       First      0-10  \n",
       "3  Montreal, PQ / Chesterville, ON       First     20-30  \n",
       "4  Montreal, PQ / Chesterville, ON       First     20-30  "
      ]
     },
     "execution_count": 7,
     "metadata": {},
     "output_type": "execute_result"
    }
   ],
   "source": [
    "age_range = [0,10,20,30,40,50,60,70,80]\n",
    "age_labels = [\"0-10\",\"10-20\",\"20-30\",\"30-40\",\"40-50\",\"50-60\",\"60-70\",\"70-80\"]\n",
    "titanic[\"age_group\"] = pd.cut(titanic.age, age_range, labels = age_labels).astype(\"category\")\n",
    "titanic.head()"
   ]
  },
  {
   "cell_type": "markdown",
   "metadata": {},
   "source": [
    "- Some passengers had multiple values for `cabin`, and not all are formatted consistently. For the sake of this anaylsis, we're taking the first cabin listed for every passenger. Ultimately, we want to look at the deck the cabin was located on. Because class cabins spanned multiple decks, we want to look at how the deck of the cabin related to survival rate or whether or not a body was found."
   ]
  },
  {
   "cell_type": "code",
   "execution_count": 8,
   "metadata": {},
   "outputs": [
    {
     "data": {
      "text/html": [
       "<div>\n",
       "<style scoped>\n",
       "    .dataframe tbody tr th:only-of-type {\n",
       "        vertical-align: middle;\n",
       "    }\n",
       "\n",
       "    .dataframe tbody tr th {\n",
       "        vertical-align: top;\n",
       "    }\n",
       "\n",
       "    .dataframe thead th {\n",
       "        text-align: right;\n",
       "    }\n",
       "</style>\n",
       "<table border=\"1\" class=\"dataframe\">\n",
       "  <thead>\n",
       "    <tr style=\"text-align: right;\">\n",
       "      <th></th>\n",
       "      <th>pclass</th>\n",
       "      <th>survived</th>\n",
       "      <th>name</th>\n",
       "      <th>sex</th>\n",
       "      <th>age</th>\n",
       "      <th>sibsp</th>\n",
       "      <th>parch</th>\n",
       "      <th>ticket</th>\n",
       "      <th>fare</th>\n",
       "      <th>cabin</th>\n",
       "      <th>embarked</th>\n",
       "      <th>boat</th>\n",
       "      <th>body</th>\n",
       "      <th>home.dest</th>\n",
       "      <th>cabin_class</th>\n",
       "      <th>age_group</th>\n",
       "      <th>deck</th>\n",
       "      <th>room</th>\n",
       "    </tr>\n",
       "  </thead>\n",
       "  <tbody>\n",
       "    <tr>\n",
       "      <th>0</th>\n",
       "      <td>1</td>\n",
       "      <td>1</td>\n",
       "      <td>2</td>\n",
       "      <td>female</td>\n",
       "      <td>29.00</td>\n",
       "      <td>0</td>\n",
       "      <td>0</td>\n",
       "      <td>24160</td>\n",
       "      <td>211.34</td>\n",
       "      <td>B5</td>\n",
       "      <td>S</td>\n",
       "      <td>2</td>\n",
       "      <td>nan</td>\n",
       "      <td>St Louis, MO</td>\n",
       "      <td>First</td>\n",
       "      <td>20-30</td>\n",
       "      <td>B</td>\n",
       "      <td>5.00</td>\n",
       "    </tr>\n",
       "    <tr>\n",
       "      <th>1</th>\n",
       "      <td>1</td>\n",
       "      <td>1</td>\n",
       "      <td>Allison, Master. Hudson Trevor</td>\n",
       "      <td>male</td>\n",
       "      <td>0.92</td>\n",
       "      <td>1</td>\n",
       "      <td>2</td>\n",
       "      <td>113781</td>\n",
       "      <td>151.55</td>\n",
       "      <td>C22 C26</td>\n",
       "      <td>S</td>\n",
       "      <td>11</td>\n",
       "      <td>nan</td>\n",
       "      <td>Montreal, PQ / Chesterville, ON</td>\n",
       "      <td>First</td>\n",
       "      <td>0-10</td>\n",
       "      <td>C</td>\n",
       "      <td>22.00</td>\n",
       "    </tr>\n",
       "    <tr>\n",
       "      <th>2</th>\n",
       "      <td>1</td>\n",
       "      <td>0</td>\n",
       "      <td>Allison, Miss. Helen Loraine</td>\n",
       "      <td>female</td>\n",
       "      <td>2.00</td>\n",
       "      <td>1</td>\n",
       "      <td>2</td>\n",
       "      <td>113781</td>\n",
       "      <td>151.55</td>\n",
       "      <td>C22 C26</td>\n",
       "      <td>S</td>\n",
       "      <td>NaN</td>\n",
       "      <td>nan</td>\n",
       "      <td>Montreal, PQ / Chesterville, ON</td>\n",
       "      <td>First</td>\n",
       "      <td>0-10</td>\n",
       "      <td>C</td>\n",
       "      <td>22.00</td>\n",
       "    </tr>\n",
       "    <tr>\n",
       "      <th>3</th>\n",
       "      <td>1</td>\n",
       "      <td>0</td>\n",
       "      <td>Allison, Mr. Hudson Joshua Creighton</td>\n",
       "      <td>male</td>\n",
       "      <td>30.00</td>\n",
       "      <td>1</td>\n",
       "      <td>2</td>\n",
       "      <td>113781</td>\n",
       "      <td>151.55</td>\n",
       "      <td>C22 C26</td>\n",
       "      <td>S</td>\n",
       "      <td>NaN</td>\n",
       "      <td>135.00</td>\n",
       "      <td>Montreal, PQ / Chesterville, ON</td>\n",
       "      <td>First</td>\n",
       "      <td>20-30</td>\n",
       "      <td>C</td>\n",
       "      <td>22.00</td>\n",
       "    </tr>\n",
       "    <tr>\n",
       "      <th>4</th>\n",
       "      <td>1</td>\n",
       "      <td>0</td>\n",
       "      <td>Allison, Mrs. Hudson J C (Bessie Waldo Daniels)</td>\n",
       "      <td>female</td>\n",
       "      <td>25.00</td>\n",
       "      <td>1</td>\n",
       "      <td>2</td>\n",
       "      <td>113781</td>\n",
       "      <td>151.55</td>\n",
       "      <td>C22 C26</td>\n",
       "      <td>S</td>\n",
       "      <td>NaN</td>\n",
       "      <td>nan</td>\n",
       "      <td>Montreal, PQ / Chesterville, ON</td>\n",
       "      <td>First</td>\n",
       "      <td>20-30</td>\n",
       "      <td>C</td>\n",
       "      <td>22.00</td>\n",
       "    </tr>\n",
       "  </tbody>\n",
       "</table>\n",
       "</div>"
      ],
      "text/plain": [
       "   pclass  survived                                             name     sex  \\\n",
       "0       1         1                                                2  female   \n",
       "1       1         1                   Allison, Master. Hudson Trevor    male   \n",
       "2       1         0                     Allison, Miss. Helen Loraine  female   \n",
       "3       1         0             Allison, Mr. Hudson Joshua Creighton    male   \n",
       "4       1         0  Allison, Mrs. Hudson J C (Bessie Waldo Daniels)  female   \n",
       "\n",
       "    age  sibsp  parch  ticket   fare    cabin embarked boat   body  \\\n",
       "0 29.00      0      0   24160 211.34       B5        S    2    nan   \n",
       "1  0.92      1      2  113781 151.55  C22 C26        S   11    nan   \n",
       "2  2.00      1      2  113781 151.55  C22 C26        S  NaN    nan   \n",
       "3 30.00      1      2  113781 151.55  C22 C26        S  NaN 135.00   \n",
       "4 25.00      1      2  113781 151.55  C22 C26        S  NaN    nan   \n",
       "\n",
       "                         home.dest cabin_class age_group deck  room  \n",
       "0                     St Louis, MO       First     20-30    B  5.00  \n",
       "1  Montreal, PQ / Chesterville, ON       First      0-10    C 22.00  \n",
       "2  Montreal, PQ / Chesterville, ON       First      0-10    C 22.00  \n",
       "3  Montreal, PQ / Chesterville, ON       First     20-30    C 22.00  \n",
       "4  Montreal, PQ / Chesterville, ON       First     20-30    C 22.00  "
      ]
     },
     "execution_count": 8,
     "metadata": {},
     "output_type": "execute_result"
    }
   ],
   "source": [
    "titanic[\"deck\"] = titanic[\"cabin\"].str.slice(0,1)\n",
    "titanic[\"room\"] = titanic[\"cabin\"].str.slice(1,5).str.extract(\"([0-9]+)\", expand=False).astype(\"float\")\n",
    "titanic.head()"
   ]
  },
  {
   "cell_type": "markdown",
   "metadata": {},
   "source": [
    "Now that we have cabin and room broken apart, we want to make sure the decks fit into one of the valid classifications: A, B, C, D, E, and F. Based on research, we know these are the decks that had passenger cabins on the Titanic."
   ]
  },
  {
   "cell_type": "code",
   "execution_count": 9,
   "metadata": {},
   "outputs": [
    {
     "data": {
      "text/plain": [
       "C    94\n",
       "B    65\n",
       "D    46\n",
       "E    41\n",
       "A    22\n",
       "F    21\n",
       "G     5\n",
       "T     1\n",
       "Name: deck, dtype: int64"
      ]
     },
     "execution_count": 9,
     "metadata": {},
     "output_type": "execute_result"
    }
   ],
   "source": [
    "titanic.deck.value_counts()"
   ]
  },
  {
   "cell_type": "markdown",
   "metadata": {},
   "source": [
    "Decks G and T are invalid, so we'll want to fix those. "
   ]
  },
  {
   "cell_type": "code",
   "execution_count": 10,
   "metadata": {},
   "outputs": [
    {
     "data": {
      "text/html": [
       "<div>\n",
       "<style scoped>\n",
       "    .dataframe tbody tr th:only-of-type {\n",
       "        vertical-align: middle;\n",
       "    }\n",
       "\n",
       "    .dataframe tbody tr th {\n",
       "        vertical-align: top;\n",
       "    }\n",
       "\n",
       "    .dataframe thead th {\n",
       "        text-align: right;\n",
       "    }\n",
       "</style>\n",
       "<table border=\"1\" class=\"dataframe\">\n",
       "  <thead>\n",
       "    <tr style=\"text-align: right;\">\n",
       "      <th></th>\n",
       "      <th>pclass</th>\n",
       "      <th>survived</th>\n",
       "      <th>name</th>\n",
       "      <th>sex</th>\n",
       "      <th>age</th>\n",
       "      <th>sibsp</th>\n",
       "      <th>parch</th>\n",
       "      <th>ticket</th>\n",
       "      <th>fare</th>\n",
       "      <th>cabin</th>\n",
       "      <th>embarked</th>\n",
       "      <th>boat</th>\n",
       "      <th>body</th>\n",
       "      <th>home.dest</th>\n",
       "      <th>cabin_class</th>\n",
       "      <th>age_group</th>\n",
       "      <th>deck</th>\n",
       "      <th>room</th>\n",
       "    </tr>\n",
       "  </thead>\n",
       "  <tbody>\n",
       "    <tr>\n",
       "      <th>1187</th>\n",
       "      <td>3</td>\n",
       "      <td>1</td>\n",
       "      <td>Sandstrom, Miss. Beatrice Irene</td>\n",
       "      <td>female</td>\n",
       "      <td>1.00</td>\n",
       "      <td>1</td>\n",
       "      <td>1</td>\n",
       "      <td>PP 9549</td>\n",
       "      <td>16.70</td>\n",
       "      <td>G6</td>\n",
       "      <td>S</td>\n",
       "      <td>13</td>\n",
       "      <td>nan</td>\n",
       "      <td>NaN</td>\n",
       "      <td>Third</td>\n",
       "      <td>0-10</td>\n",
       "      <td>G</td>\n",
       "      <td>6.00</td>\n",
       "    </tr>\n",
       "    <tr>\n",
       "      <th>1188</th>\n",
       "      <td>3</td>\n",
       "      <td>1</td>\n",
       "      <td>Sandstrom, Mrs. Hjalmar (Agnes Charlotta Bengt...</td>\n",
       "      <td>female</td>\n",
       "      <td>24.00</td>\n",
       "      <td>0</td>\n",
       "      <td>2</td>\n",
       "      <td>PP 9549</td>\n",
       "      <td>16.70</td>\n",
       "      <td>G6</td>\n",
       "      <td>S</td>\n",
       "      <td>13</td>\n",
       "      <td>nan</td>\n",
       "      <td>NaN</td>\n",
       "      <td>Third</td>\n",
       "      <td>20-30</td>\n",
       "      <td>G</td>\n",
       "      <td>6.00</td>\n",
       "    </tr>\n",
       "    <tr>\n",
       "      <th>1189</th>\n",
       "      <td>3</td>\n",
       "      <td>1</td>\n",
       "      <td>Sandstrom, Miss. Marguerite Rut</td>\n",
       "      <td>female</td>\n",
       "      <td>4.00</td>\n",
       "      <td>1</td>\n",
       "      <td>1</td>\n",
       "      <td>PP 9549</td>\n",
       "      <td>16.70</td>\n",
       "      <td>G6</td>\n",
       "      <td>S</td>\n",
       "      <td>13</td>\n",
       "      <td>nan</td>\n",
       "      <td>NaN</td>\n",
       "      <td>Third</td>\n",
       "      <td>0-10</td>\n",
       "      <td>G</td>\n",
       "      <td>6.00</td>\n",
       "    </tr>\n",
       "    <tr>\n",
       "      <th>1230</th>\n",
       "      <td>3</td>\n",
       "      <td>0</td>\n",
       "      <td>Strom, Miss. Telma Matilda</td>\n",
       "      <td>female</td>\n",
       "      <td>2.00</td>\n",
       "      <td>0</td>\n",
       "      <td>1</td>\n",
       "      <td>347054</td>\n",
       "      <td>10.46</td>\n",
       "      <td>G6</td>\n",
       "      <td>S</td>\n",
       "      <td>NaN</td>\n",
       "      <td>nan</td>\n",
       "      <td>NaN</td>\n",
       "      <td>Third</td>\n",
       "      <td>0-10</td>\n",
       "      <td>G</td>\n",
       "      <td>6.00</td>\n",
       "    </tr>\n",
       "    <tr>\n",
       "      <th>1231</th>\n",
       "      <td>3</td>\n",
       "      <td>0</td>\n",
       "      <td>Strom, Mrs. Wilhelm (Elna Matilda Persson)</td>\n",
       "      <td>female</td>\n",
       "      <td>29.00</td>\n",
       "      <td>1</td>\n",
       "      <td>1</td>\n",
       "      <td>347054</td>\n",
       "      <td>10.46</td>\n",
       "      <td>G6</td>\n",
       "      <td>S</td>\n",
       "      <td>NaN</td>\n",
       "      <td>nan</td>\n",
       "      <td>NaN</td>\n",
       "      <td>Third</td>\n",
       "      <td>20-30</td>\n",
       "      <td>G</td>\n",
       "      <td>6.00</td>\n",
       "    </tr>\n",
       "  </tbody>\n",
       "</table>\n",
       "</div>"
      ],
      "text/plain": [
       "      pclass  survived                                               name  \\\n",
       "1187       3         1                    Sandstrom, Miss. Beatrice Irene   \n",
       "1188       3         1  Sandstrom, Mrs. Hjalmar (Agnes Charlotta Bengt...   \n",
       "1189       3         1                    Sandstrom, Miss. Marguerite Rut   \n",
       "1230       3         0                         Strom, Miss. Telma Matilda   \n",
       "1231       3         0         Strom, Mrs. Wilhelm (Elna Matilda Persson)   \n",
       "\n",
       "         sex   age  sibsp  parch   ticket  fare cabin embarked boat  body  \\\n",
       "1187  female  1.00      1      1  PP 9549 16.70    G6        S   13   nan   \n",
       "1188  female 24.00      0      2  PP 9549 16.70    G6        S   13   nan   \n",
       "1189  female  4.00      1      1  PP 9549 16.70    G6        S   13   nan   \n",
       "1230  female  2.00      0      1   347054 10.46    G6        S  NaN   nan   \n",
       "1231  female 29.00      1      1   347054 10.46    G6        S  NaN   nan   \n",
       "\n",
       "     home.dest cabin_class age_group deck  room  \n",
       "1187       NaN       Third      0-10    G  6.00  \n",
       "1188       NaN       Third     20-30    G  6.00  \n",
       "1189       NaN       Third      0-10    G  6.00  \n",
       "1230       NaN       Third      0-10    G  6.00  \n",
       "1231       NaN       Third     20-30    G  6.00  "
      ]
     },
     "execution_count": 10,
     "metadata": {},
     "output_type": "execute_result"
    }
   ],
   "source": [
    "titanic[titanic[\"deck\"]==\"G\"]"
   ]
  },
  {
   "cell_type": "markdown",
   "metadata": {},
   "source": [
    "The passengers appearing to be in a cabin on the G deck were in 3rd class, so we're going to assume they were actually on deck F, the lowest 3rd class deck."
   ]
  },
  {
   "cell_type": "code",
   "execution_count": 11,
   "metadata": {},
   "outputs": [
    {
     "data": {
      "text/plain": [
       "C    94\n",
       "B    65\n",
       "D    46\n",
       "E    41\n",
       "F    26\n",
       "A    22\n",
       "T     1\n",
       "Name: deck, dtype: int64"
      ]
     },
     "execution_count": 11,
     "metadata": {},
     "output_type": "execute_result"
    }
   ],
   "source": [
    "titanic[\"deck\"] = titanic[\"deck\"].replace(\"G\", \"F\")\n",
    "titanic.deck.value_counts()"
   ]
  },
  {
   "cell_type": "code",
   "execution_count": 12,
   "metadata": {},
   "outputs": [
    {
     "data": {
      "text/html": [
       "<div>\n",
       "<style scoped>\n",
       "    .dataframe tbody tr th:only-of-type {\n",
       "        vertical-align: middle;\n",
       "    }\n",
       "\n",
       "    .dataframe tbody tr th {\n",
       "        vertical-align: top;\n",
       "    }\n",
       "\n",
       "    .dataframe thead th {\n",
       "        text-align: right;\n",
       "    }\n",
       "</style>\n",
       "<table border=\"1\" class=\"dataframe\">\n",
       "  <thead>\n",
       "    <tr style=\"text-align: right;\">\n",
       "      <th></th>\n",
       "      <th>pclass</th>\n",
       "      <th>survived</th>\n",
       "      <th>name</th>\n",
       "      <th>sex</th>\n",
       "      <th>age</th>\n",
       "      <th>sibsp</th>\n",
       "      <th>parch</th>\n",
       "      <th>ticket</th>\n",
       "      <th>fare</th>\n",
       "      <th>cabin</th>\n",
       "      <th>embarked</th>\n",
       "      <th>boat</th>\n",
       "      <th>body</th>\n",
       "      <th>home.dest</th>\n",
       "      <th>cabin_class</th>\n",
       "      <th>age_group</th>\n",
       "      <th>deck</th>\n",
       "      <th>room</th>\n",
       "    </tr>\n",
       "  </thead>\n",
       "  <tbody>\n",
       "    <tr>\n",
       "      <th>30</th>\n",
       "      <td>1</td>\n",
       "      <td>0</td>\n",
       "      <td>Blackwell, Mr. Stephen Weart</td>\n",
       "      <td>male</td>\n",
       "      <td>45.00</td>\n",
       "      <td>0</td>\n",
       "      <td>0</td>\n",
       "      <td>113784</td>\n",
       "      <td>35.50</td>\n",
       "      <td>T</td>\n",
       "      <td>S</td>\n",
       "      <td>NaN</td>\n",
       "      <td>nan</td>\n",
       "      <td>Trenton, NJ</td>\n",
       "      <td>First</td>\n",
       "      <td>40-50</td>\n",
       "      <td>T</td>\n",
       "      <td>nan</td>\n",
       "    </tr>\n",
       "  </tbody>\n",
       "</table>\n",
       "</div>"
      ],
      "text/plain": [
       "    pclass  survived                          name   sex   age  sibsp  parch  \\\n",
       "30       1         0  Blackwell, Mr. Stephen Weart  male 45.00      0      0   \n",
       "\n",
       "    ticket  fare cabin embarked boat  body    home.dest cabin_class age_group  \\\n",
       "30  113784 35.50     T        S  NaN   nan  Trenton, NJ       First     40-50   \n",
       "\n",
       "   deck  room  \n",
       "30    T   nan  "
      ]
     },
     "execution_count": 12,
     "metadata": {},
     "output_type": "execute_result"
    }
   ],
   "source": [
    "titanic[titanic[\"deck\"]==\"T\"]"
   ]
  },
  {
   "cell_type": "markdown",
   "metadata": {},
   "source": [
    "Conversely, the passenger with a cabin on the T deck is in 1st class, so we'll assume he was on the A deck, the highest first class deck."
   ]
  },
  {
   "cell_type": "code",
   "execution_count": 13,
   "metadata": {},
   "outputs": [
    {
     "data": {
      "text/plain": [
       "C    94\n",
       "B    65\n",
       "D    46\n",
       "E    41\n",
       "F    26\n",
       "A    23\n",
       "Name: deck, dtype: int64"
      ]
     },
     "execution_count": 13,
     "metadata": {},
     "output_type": "execute_result"
    }
   ],
   "source": [
    "titanic[\"deck\"] = titanic[\"deck\"].replace(\"T\", \"A\")\n",
    "titanic.deck.value_counts()"
   ]
  },
  {
   "cell_type": "markdown",
   "metadata": {},
   "source": [
    "\n",
    "- Family data"
   ]
  },
  {
   "cell_type": "code",
   "execution_count": 14,
   "metadata": {
    "collapsed": true
   },
   "outputs": [
    {
     "data": {
      "text/plain": [
       "0    891\n",
       "1    319\n",
       "2     42\n",
       "4     22\n",
       "3     20\n",
       "8      9\n",
       "5      6\n",
       "Name: sibsp, dtype: int64"
      ]
     },
     "execution_count": 14,
     "metadata": {},
     "output_type": "execute_result"
    }
   ],
   "source": [
    "titanic.sibsp.value_counts()"
   ]
  },
  {
   "cell_type": "code",
   "execution_count": 15,
   "metadata": {
    "collapsed": true
   },
   "outputs": [
    {
     "data": {
      "text/plain": [
       "0    1002\n",
       "1     170\n",
       "2     113\n",
       "3       8\n",
       "5       6\n",
       "4       6\n",
       "9       2\n",
       "6       2\n",
       "Name: parch, dtype: int64"
      ]
     },
     "execution_count": 15,
     "metadata": {},
     "output_type": "execute_result"
    }
   ],
   "source": [
    "titanic.parch.value_counts()"
   ]
  },
  {
   "cell_type": "markdown",
   "metadata": {},
   "source": [
    "### 2.2. Creating a new category\n",
    "\n",
    "- Since we are interested in data analyses of 3 categories - \"survived\", \"body found\", \"body missing\", we create a new column for this new category."
   ]
  },
  {
   "cell_type": "code",
   "execution_count": 87,
   "metadata": {},
   "outputs": [
    {
     "data": {
      "text/html": [
       "<div>\n",
       "<style scoped>\n",
       "    .dataframe tbody tr th:only-of-type {\n",
       "        vertical-align: middle;\n",
       "    }\n",
       "\n",
       "    .dataframe tbody tr th {\n",
       "        vertical-align: top;\n",
       "    }\n",
       "\n",
       "    .dataframe thead th {\n",
       "        text-align: right;\n",
       "    }\n",
       "</style>\n",
       "<table border=\"1\" class=\"dataframe\">\n",
       "  <thead>\n",
       "    <tr style=\"text-align: right;\">\n",
       "      <th></th>\n",
       "      <th>pclass</th>\n",
       "      <th>survived</th>\n",
       "      <th>name</th>\n",
       "      <th>sex</th>\n",
       "      <th>age</th>\n",
       "      <th>sibsp</th>\n",
       "      <th>parch</th>\n",
       "      <th>ticket</th>\n",
       "      <th>fare</th>\n",
       "      <th>cabin</th>\n",
       "      <th>...</th>\n",
       "      <th>cabin_class</th>\n",
       "      <th>age_group</th>\n",
       "      <th>deck</th>\n",
       "      <th>room</th>\n",
       "      <th>status</th>\n",
       "      <th>group</th>\n",
       "      <th>last_name</th>\n",
       "      <th>family_number</th>\n",
       "      <th>with_family</th>\n",
       "      <th>body_found</th>\n",
       "    </tr>\n",
       "  </thead>\n",
       "  <tbody>\n",
       "    <tr>\n",
       "      <th>0</th>\n",
       "      <td>1</td>\n",
       "      <td>1</td>\n",
       "      <td>2</td>\n",
       "      <td>female</td>\n",
       "      <td>29.00</td>\n",
       "      <td>0</td>\n",
       "      <td>0</td>\n",
       "      <td>24160</td>\n",
       "      <td>211.34</td>\n",
       "      <td>B5</td>\n",
       "      <td>...</td>\n",
       "      <td>First</td>\n",
       "      <td>20-30</td>\n",
       "      <td>B</td>\n",
       "      <td>5.00</td>\n",
       "      <td>survived</td>\n",
       "      <td>1.00</td>\n",
       "      <td>NaN</td>\n",
       "      <td>0</td>\n",
       "      <td>No</td>\n",
       "      <td>0</td>\n",
       "    </tr>\n",
       "    <tr>\n",
       "      <th>1</th>\n",
       "      <td>1</td>\n",
       "      <td>1</td>\n",
       "      <td>Allison, Master. Hudson Trevor</td>\n",
       "      <td>male</td>\n",
       "      <td>0.92</td>\n",
       "      <td>1</td>\n",
       "      <td>2</td>\n",
       "      <td>113781</td>\n",
       "      <td>151.55</td>\n",
       "      <td>C22 C26</td>\n",
       "      <td>...</td>\n",
       "      <td>First</td>\n",
       "      <td>0-10</td>\n",
       "      <td>C</td>\n",
       "      <td>22.00</td>\n",
       "      <td>survived</td>\n",
       "      <td>6.00</td>\n",
       "      <td>Allison</td>\n",
       "      <td>3</td>\n",
       "      <td>Yes</td>\n",
       "      <td>0</td>\n",
       "    </tr>\n",
       "    <tr>\n",
       "      <th>2</th>\n",
       "      <td>1</td>\n",
       "      <td>1</td>\n",
       "      <td>Anderson, Mr. Harry</td>\n",
       "      <td>male</td>\n",
       "      <td>48.00</td>\n",
       "      <td>0</td>\n",
       "      <td>0</td>\n",
       "      <td>19952</td>\n",
       "      <td>26.55</td>\n",
       "      <td>E12</td>\n",
       "      <td>...</td>\n",
       "      <td>First</td>\n",
       "      <td>40-50</td>\n",
       "      <td>E</td>\n",
       "      <td>12.00</td>\n",
       "      <td>survived</td>\n",
       "      <td>1.00</td>\n",
       "      <td>Anderson</td>\n",
       "      <td>0</td>\n",
       "      <td>No</td>\n",
       "      <td>0</td>\n",
       "    </tr>\n",
       "    <tr>\n",
       "      <th>3</th>\n",
       "      <td>1</td>\n",
       "      <td>1</td>\n",
       "      <td>Andrews, Miss. Kornelia Theodosia</td>\n",
       "      <td>female</td>\n",
       "      <td>63.00</td>\n",
       "      <td>1</td>\n",
       "      <td>0</td>\n",
       "      <td>13502</td>\n",
       "      <td>77.96</td>\n",
       "      <td>D7</td>\n",
       "      <td>...</td>\n",
       "      <td>First</td>\n",
       "      <td>60-70</td>\n",
       "      <td>D</td>\n",
       "      <td>7.00</td>\n",
       "      <td>survived</td>\n",
       "      <td>1.00</td>\n",
       "      <td>Andrews</td>\n",
       "      <td>1</td>\n",
       "      <td>Yes</td>\n",
       "      <td>0</td>\n",
       "    </tr>\n",
       "    <tr>\n",
       "      <th>4</th>\n",
       "      <td>1</td>\n",
       "      <td>1</td>\n",
       "      <td>Appleton, Mrs. Edward Dale (Charlotte Lamson)</td>\n",
       "      <td>female</td>\n",
       "      <td>53.00</td>\n",
       "      <td>2</td>\n",
       "      <td>0</td>\n",
       "      <td>11769</td>\n",
       "      <td>51.48</td>\n",
       "      <td>C101</td>\n",
       "      <td>...</td>\n",
       "      <td>First</td>\n",
       "      <td>50-60</td>\n",
       "      <td>C</td>\n",
       "      <td>101.00</td>\n",
       "      <td>survived</td>\n",
       "      <td>2.00</td>\n",
       "      <td>Appleton</td>\n",
       "      <td>2</td>\n",
       "      <td>Yes</td>\n",
       "      <td>0</td>\n",
       "    </tr>\n",
       "  </tbody>\n",
       "</table>\n",
       "<p>5 rows × 24 columns</p>\n",
       "</div>"
      ],
      "text/plain": [
       "   pclass  survived                                           name     sex  \\\n",
       "0       1         1                                              2  female   \n",
       "1       1         1                 Allison, Master. Hudson Trevor    male   \n",
       "2       1         1                            Anderson, Mr. Harry    male   \n",
       "3       1         1              Andrews, Miss. Kornelia Theodosia  female   \n",
       "4       1         1  Appleton, Mrs. Edward Dale (Charlotte Lamson)  female   \n",
       "\n",
       "    age  sibsp  parch  ticket   fare    cabin     ...     cabin_class  \\\n",
       "0 29.00      0      0   24160 211.34       B5     ...           First   \n",
       "1  0.92      1      2  113781 151.55  C22 C26     ...           First   \n",
       "2 48.00      0      0   19952  26.55      E12     ...           First   \n",
       "3 63.00      1      0   13502  77.96       D7     ...           First   \n",
       "4 53.00      2      0   11769  51.48     C101     ...           First   \n",
       "\n",
       "  age_group  deck   room    status group last_name  family_number with_family  \\\n",
       "0     20-30     B   5.00  survived  1.00       NaN              0          No   \n",
       "1      0-10     C  22.00  survived  6.00   Allison              3         Yes   \n",
       "2     40-50     E  12.00  survived  1.00  Anderson              0          No   \n",
       "3     60-70     D   7.00  survived  1.00   Andrews              1         Yes   \n",
       "4     50-60     C 101.00  survived  2.00  Appleton              2         Yes   \n",
       "\n",
       "   body_found  \n",
       "0           0  \n",
       "1           0  \n",
       "2           0  \n",
       "3           0  \n",
       "4           0  \n",
       "\n",
       "[5 rows x 24 columns]"
      ]
     },
     "execution_count": 87,
     "metadata": {},
     "output_type": "execute_result"
    }
   ],
   "source": [
    "survived = titanic.copy()[titanic.survived == 1]\n",
    "body_found = titanic.copy()[(titanic.survived == 0) & (titanic.body.notnull())]\n",
    "body_missing = titanic.copy()[(titanic.survived == 0) & (titanic.body.isnull())]\n",
    "survived[\"status\"] = \"survived\"\n",
    "body_found[\"status\"] = \"body found\"\n",
    "body_missing[\"status\"] = \"body missing\"\n",
    "titanic = pd.merge(survived, body_found, how = \"outer\")\n",
    "titanic = pd.merge(titanic, body_missing, how = \"outer\")\n",
    "titanic.head()"
   ]
  },
  {
   "cell_type": "code",
   "execution_count": 90,
   "metadata": {},
   "outputs": [
    {
     "data": {
      "text/plain": [
       "body missing    688\n",
       "survived        500\n",
       "body found      121\n",
       "Name: status, dtype: int64"
      ]
     },
     "execution_count": 90,
     "metadata": {},
     "output_type": "execute_result"
    }
   ],
   "source": [
    "titanic.status.value_counts()"
   ]
  },
  {
   "cell_type": "markdown",
   "metadata": {},
   "source": [
    "- We also need to create another column of checking if the body of non-survivor is found or missing as an indicator variable, in order to perform OLS regression."
   ]
  },
  {
   "cell_type": "code",
   "execution_count": 101,
   "metadata": {},
   "outputs": [
    {
     "data": {
      "text/plain": [
       "count   1,309.00\n",
       "mean        0.09\n",
       "std         0.29\n",
       "min         0.00\n",
       "25%         0.00\n",
       "50%         0.00\n",
       "75%         0.00\n",
       "max         1.00\n",
       "Name: body_found, dtype: float64"
      ]
     },
     "execution_count": 101,
     "metadata": {},
     "output_type": "execute_result"
    }
   ],
   "source": [
    "titanic[\"body_found\"] = titanic[\"body\"].notnull()\n",
    "titanic[\"body_found\"] = titanic[\"body_found\"].replace(False, 0)\n",
    "titanic[\"body_found\"] = titanic[\"body_found\"].replace(True, 1)\n",
    "titanic.body_found.describe()"
   ]
  },
  {
   "cell_type": "code",
   "execution_count": 17,
   "metadata": {},
   "outputs": [
    {
     "name": "stdout",
     "output_type": "stream",
     "text": [
      "<class 'pandas.core.series.Series'>\n",
      "range(0, 1309)\n",
      "0       A\n",
      "1       A\n",
      "2       A\n",
      "3       A\n",
      "4       A\n",
      "5       A\n",
      "6       A\n",
      "7       A\n",
      "8       A\n",
      "9       A\n",
      "10      A\n",
      "11      A\n",
      "12      A\n",
      "13      A\n",
      "14      A\n",
      "15      A\n",
      "16      A\n",
      "17      A\n",
      "18      A\n",
      "19      A\n",
      "20      A\n",
      "21      A\n",
      "22      A\n",
      "23      A\n",
      "24      A\n",
      "25      A\n",
      "26      A\n",
      "27      A\n",
      "28      A\n",
      "29      A\n",
      "       ..\n",
      "1279    A\n",
      "1280    A\n",
      "1281    A\n",
      "1282    A\n",
      "1283    A\n",
      "1284    A\n",
      "1285    A\n",
      "1286    A\n",
      "1287    A\n",
      "1288    A\n",
      "1289    A\n",
      "1290    A\n",
      "1291    A\n",
      "1292    A\n",
      "1293    A\n",
      "1294    A\n",
      "1295    A\n",
      "1296    A\n",
      "1297    A\n",
      "1298    A\n",
      "1299    A\n",
      "1300    A\n",
      "1301    A\n",
      "1302    A\n",
      "1303    A\n",
      "1304    A\n",
      "1305    A\n",
      "1306    A\n",
      "1307    A\n",
      "1308    A\n",
      "Name: group, Length: 1309, dtype: object\n"
     ]
    },
    {
     "name": "stderr",
     "output_type": "stream",
     "text": [
      "/Users/briannaseo/anaconda3/lib/python3.6/site-packages/ipykernel_launcher.py:8: SettingWithCopyWarning: \n",
      "A value is trying to be set on a copy of a slice from a DataFrame\n",
      "\n",
      "See the caveats in the documentation: http://pandas.pydata.org/pandas-docs/stable/indexing.html#indexing-view-versus-copy\n",
      "  \n"
     ]
    },
    {
     "name": "stdout",
     "output_type": "stream",
     "text": [
      "    pclass  survived                                               name  \\\n",
      "0        1         1                                                  2   \n",
      "1        1         1                     Allison, Master. Hudson Trevor   \n",
      "2        1         1                                Anderson, Mr. Harry   \n",
      "3        1         1                  Andrews, Miss. Kornelia Theodosia   \n",
      "4        1         1      Appleton, Mrs. Edward Dale (Charlotte Lamson)   \n",
      "5        1         1  Astor, Mrs. John Jacob (Madeleine Talmadge Force)   \n",
      "6        1         1                      Aubart, Mme. Leontine Pauline   \n",
      "7        1         1                       Barber, Miss. Ellen \"Nellie\"   \n",
      "8        1         1               Barkworth, Mr. Algernon Henry Wilson   \n",
      "9        1         1    Baxter, Mrs. James (Helene DeLaudeniere Chaput)   \n",
      "10       1         1                              Bazzani, Miss. Albina   \n",
      "11       1         1                      Beckwith, Mr. Richard Leonard   \n",
      "12       1         1   Beckwith, Mrs. Richard Leonard (Sallie Monypeny)   \n",
      "13       1         1                              Behr, Mr. Karl Howell   \n",
      "14       1         1                              Bidois, Miss. Rosalie   \n",
      "15       1         1                                  Bird, Miss. Ellen   \n",
      "16       1         1                            Bishop, Mr. Dickinson H   \n",
      "17       1         1            Bishop, Mrs. Dickinson H (Helen Walton)   \n",
      "18       1         1                             Bissette, Miss. Amelia   \n",
      "19       1         1          Bjornstrom-Steffansson, Mr. Mauritz Hakan   \n",
      "\n",
      "       sex   age  sibsp  parch    ticket   fare    cabin embarked boat  body  \\\n",
      "0   female 29.00      0      0     24160 211.34       B5        S    2   nan   \n",
      "1     male  0.92      1      2    113781 151.55  C22 C26        S   11   nan   \n",
      "2     male 48.00      0      0     19952  26.55      E12        S    3   nan   \n",
      "3   female 63.00      1      0     13502  77.96       D7        S   10   nan   \n",
      "4   female 53.00      2      0     11769  51.48     C101        S    D   nan   \n",
      "5   female 18.00      1      0  PC 17757 227.53  C62 C64        C    4   nan   \n",
      "6   female 24.00      0      0  PC 17477  69.30      B35        C    9   nan   \n",
      "7   female 26.00      0      0     19877  78.85      NaN        S    6   nan   \n",
      "8     male 80.00      0      0     27042  30.00      A23        S    B   nan   \n",
      "9   female 50.00      0      1  PC 17558 247.52  B58 B60        C    6   nan   \n",
      "10  female 32.00      0      0     11813  76.29      D15        C    8   nan   \n",
      "11    male 37.00      1      1     11751  52.55      D35        S    5   nan   \n",
      "12  female 47.00      1      1     11751  52.55      D35        S    5   nan   \n",
      "13    male 26.00      0      0    111369  30.00     C148        C    5   nan   \n",
      "14  female 42.00      0      0  PC 17757 227.53      NaN        C    4   nan   \n",
      "15  female 29.00      0      0  PC 17483 221.78      C97        S    8   nan   \n",
      "16    male 25.00      1      0     11967  91.08      B49        C    7   nan   \n",
      "17  female 19.00      1      0     11967  91.08      B49        C    7   nan   \n",
      "18  female 35.00      0      0  PC 17760 135.63      C99        S    8   nan   \n",
      "19    male 28.00      0      0    110564  26.55      C52        S    D   nan   \n",
      "\n",
      "                             home.dest cabin_class age_group deck   room  \\\n",
      "0                         St Louis, MO       First     20-30    B   5.00   \n",
      "1      Montreal, PQ / Chesterville, ON       First      0-10    C  22.00   \n",
      "2                         New York, NY       First     40-50    E  12.00   \n",
      "3                           Hudson, NY       First     60-70    D   7.00   \n",
      "4                  Bayside, Queens, NY       First     50-60    C 101.00   \n",
      "5                         New York, NY       First     10-20    C  62.00   \n",
      "6                        Paris, France       First     20-30    B  35.00   \n",
      "7                                  NaN       First     20-30  NaN    nan   \n",
      "8                        Hessle, Yorks       First     70-80    A  23.00   \n",
      "9                         Montreal, PQ       First     40-50    B  58.00   \n",
      "10                                 NaN       First     30-40    D  15.00   \n",
      "11                        New York, NY       First     30-40    D  35.00   \n",
      "12                        New York, NY       First     40-50    D  35.00   \n",
      "13                        New York, NY       First     20-30    C 148.00   \n",
      "14                                 NaN       First     40-50  NaN    nan   \n",
      "15                                 NaN       First     20-30    C  97.00   \n",
      "16                        Dowagiac, MI       First     20-30    B  49.00   \n",
      "17                        Dowagiac, MI       First     10-20    B  49.00   \n",
      "18                                 NaN       First     30-40    C  99.00   \n",
      "19  Stockholm, Sweden / Washington, DC       First     20-30    C  52.00   \n",
      "\n",
      "      status group  \n",
      "0   survived     1  \n",
      "1   survived     6  \n",
      "2   survived     1  \n",
      "3   survived     1  \n",
      "4   survived     2  \n",
      "5   survived     5  \n",
      "6   survived     2  \n",
      "7   survived     3  \n",
      "8   survived     1  \n",
      "9   survived     3  \n",
      "10  survived     2  \n",
      "11  survived     2  \n",
      "12  survived     2  \n",
      "13  survived     1  \n",
      "14  survived     5  \n",
      "15  survived     4  \n",
      "16  survived     2  \n",
      "17  survived     2  \n",
      "18  survived     4  \n",
      "19  survived     1  \n"
     ]
    }
   ],
   "source": [
    "counts= pd.DataFrame(titanic[\"ticket\"].value_counts()).to_dict()\n",
    "print(type(titanic['ticket']))\n",
    "print(range(titanic['ticket'].count()))\n",
    "titanic['group']=\"A\"\n",
    "print(titanic['group'])\n",
    "\n",
    "for i in range(titanic['ticket'].count()):\n",
    "    titanic['group'][i] = counts['ticket'][titanic['ticket'][i]]\n",
    "\n",
    "\n",
    "print(titanic.head(20))\n"
   ]
  },
  {
   "cell_type": "markdown",
   "metadata": {},
   "source": [
    "- We add up SIBSP and PARCH in order to show the total family numbers\n",
    "- We extract the family name and create a new column \"last_ name\" in order to better verify if the passengers are families. "
   ]
  },
  {
   "cell_type": "code",
   "execution_count": 18,
   "metadata": {},
   "outputs": [
    {
     "data": {
      "text/html": [
       "<div>\n",
       "<style scoped>\n",
       "    .dataframe tbody tr th:only-of-type {\n",
       "        vertical-align: middle;\n",
       "    }\n",
       "\n",
       "    .dataframe tbody tr th {\n",
       "        vertical-align: top;\n",
       "    }\n",
       "\n",
       "    .dataframe thead th {\n",
       "        text-align: right;\n",
       "    }\n",
       "</style>\n",
       "<table border=\"1\" class=\"dataframe\">\n",
       "  <thead>\n",
       "    <tr style=\"text-align: right;\">\n",
       "      <th></th>\n",
       "      <th>pclass</th>\n",
       "      <th>survived</th>\n",
       "      <th>name</th>\n",
       "      <th>sex</th>\n",
       "      <th>age</th>\n",
       "      <th>sibsp</th>\n",
       "      <th>parch</th>\n",
       "      <th>ticket</th>\n",
       "      <th>fare</th>\n",
       "      <th>cabin</th>\n",
       "      <th>...</th>\n",
       "      <th>home.dest</th>\n",
       "      <th>cabin_class</th>\n",
       "      <th>age_group</th>\n",
       "      <th>deck</th>\n",
       "      <th>room</th>\n",
       "      <th>status</th>\n",
       "      <th>group</th>\n",
       "      <th>last_name</th>\n",
       "      <th>family_number</th>\n",
       "      <th>with_family</th>\n",
       "    </tr>\n",
       "  </thead>\n",
       "  <tbody>\n",
       "    <tr>\n",
       "      <th>0</th>\n",
       "      <td>1</td>\n",
       "      <td>1</td>\n",
       "      <td>2</td>\n",
       "      <td>female</td>\n",
       "      <td>29.00</td>\n",
       "      <td>0</td>\n",
       "      <td>0</td>\n",
       "      <td>24160</td>\n",
       "      <td>211.34</td>\n",
       "      <td>B5</td>\n",
       "      <td>...</td>\n",
       "      <td>St Louis, MO</td>\n",
       "      <td>First</td>\n",
       "      <td>20-30</td>\n",
       "      <td>B</td>\n",
       "      <td>5.00</td>\n",
       "      <td>survived</td>\n",
       "      <td>1</td>\n",
       "      <td>NaN</td>\n",
       "      <td>0</td>\n",
       "      <td>No</td>\n",
       "    </tr>\n",
       "    <tr>\n",
       "      <th>1</th>\n",
       "      <td>1</td>\n",
       "      <td>1</td>\n",
       "      <td>Allison, Master. Hudson Trevor</td>\n",
       "      <td>male</td>\n",
       "      <td>0.92</td>\n",
       "      <td>1</td>\n",
       "      <td>2</td>\n",
       "      <td>113781</td>\n",
       "      <td>151.55</td>\n",
       "      <td>C22 C26</td>\n",
       "      <td>...</td>\n",
       "      <td>Montreal, PQ / Chesterville, ON</td>\n",
       "      <td>First</td>\n",
       "      <td>0-10</td>\n",
       "      <td>C</td>\n",
       "      <td>22.00</td>\n",
       "      <td>survived</td>\n",
       "      <td>6</td>\n",
       "      <td>Allison</td>\n",
       "      <td>3</td>\n",
       "      <td>Yes</td>\n",
       "    </tr>\n",
       "    <tr>\n",
       "      <th>2</th>\n",
       "      <td>1</td>\n",
       "      <td>1</td>\n",
       "      <td>Anderson, Mr. Harry</td>\n",
       "      <td>male</td>\n",
       "      <td>48.00</td>\n",
       "      <td>0</td>\n",
       "      <td>0</td>\n",
       "      <td>19952</td>\n",
       "      <td>26.55</td>\n",
       "      <td>E12</td>\n",
       "      <td>...</td>\n",
       "      <td>New York, NY</td>\n",
       "      <td>First</td>\n",
       "      <td>40-50</td>\n",
       "      <td>E</td>\n",
       "      <td>12.00</td>\n",
       "      <td>survived</td>\n",
       "      <td>1</td>\n",
       "      <td>Anderson</td>\n",
       "      <td>0</td>\n",
       "      <td>No</td>\n",
       "    </tr>\n",
       "    <tr>\n",
       "      <th>3</th>\n",
       "      <td>1</td>\n",
       "      <td>1</td>\n",
       "      <td>Andrews, Miss. Kornelia Theodosia</td>\n",
       "      <td>female</td>\n",
       "      <td>63.00</td>\n",
       "      <td>1</td>\n",
       "      <td>0</td>\n",
       "      <td>13502</td>\n",
       "      <td>77.96</td>\n",
       "      <td>D7</td>\n",
       "      <td>...</td>\n",
       "      <td>Hudson, NY</td>\n",
       "      <td>First</td>\n",
       "      <td>60-70</td>\n",
       "      <td>D</td>\n",
       "      <td>7.00</td>\n",
       "      <td>survived</td>\n",
       "      <td>1</td>\n",
       "      <td>Andrews</td>\n",
       "      <td>1</td>\n",
       "      <td>Yes</td>\n",
       "    </tr>\n",
       "    <tr>\n",
       "      <th>4</th>\n",
       "      <td>1</td>\n",
       "      <td>1</td>\n",
       "      <td>Appleton, Mrs. Edward Dale (Charlotte Lamson)</td>\n",
       "      <td>female</td>\n",
       "      <td>53.00</td>\n",
       "      <td>2</td>\n",
       "      <td>0</td>\n",
       "      <td>11769</td>\n",
       "      <td>51.48</td>\n",
       "      <td>C101</td>\n",
       "      <td>...</td>\n",
       "      <td>Bayside, Queens, NY</td>\n",
       "      <td>First</td>\n",
       "      <td>50-60</td>\n",
       "      <td>C</td>\n",
       "      <td>101.00</td>\n",
       "      <td>survived</td>\n",
       "      <td>2</td>\n",
       "      <td>Appleton</td>\n",
       "      <td>2</td>\n",
       "      <td>Yes</td>\n",
       "    </tr>\n",
       "  </tbody>\n",
       "</table>\n",
       "<p>5 rows × 23 columns</p>\n",
       "</div>"
      ],
      "text/plain": [
       "   pclass  survived                                           name     sex  \\\n",
       "0       1         1                                              2  female   \n",
       "1       1         1                 Allison, Master. Hudson Trevor    male   \n",
       "2       1         1                            Anderson, Mr. Harry    male   \n",
       "3       1         1              Andrews, Miss. Kornelia Theodosia  female   \n",
       "4       1         1  Appleton, Mrs. Edward Dale (Charlotte Lamson)  female   \n",
       "\n",
       "    age  sibsp  parch  ticket   fare    cabin     ...      \\\n",
       "0 29.00      0      0   24160 211.34       B5     ...       \n",
       "1  0.92      1      2  113781 151.55  C22 C26     ...       \n",
       "2 48.00      0      0   19952  26.55      E12     ...       \n",
       "3 63.00      1      0   13502  77.96       D7     ...       \n",
       "4 53.00      2      0   11769  51.48     C101     ...       \n",
       "\n",
       "                         home.dest cabin_class  age_group deck   room  \\\n",
       "0                     St Louis, MO       First      20-30    B   5.00   \n",
       "1  Montreal, PQ / Chesterville, ON       First       0-10    C  22.00   \n",
       "2                     New York, NY       First      40-50    E  12.00   \n",
       "3                       Hudson, NY       First      60-70    D   7.00   \n",
       "4              Bayside, Queens, NY       First      50-60    C 101.00   \n",
       "\n",
       "     status group  last_name family_number with_family  \n",
       "0  survived     1        NaN             0          No  \n",
       "1  survived     6    Allison             3         Yes  \n",
       "2  survived     1   Anderson             0          No  \n",
       "3  survived     1    Andrews             1         Yes  \n",
       "4  survived     2   Appleton             2         Yes  \n",
       "\n",
       "[5 rows x 23 columns]"
      ]
     },
     "execution_count": 18,
     "metadata": {},
     "output_type": "execute_result"
    }
   ],
   "source": [
    "titanic['last_name'] = titanic['name'].str.extract('^(.*),', expand = False)\n",
    "titanic['family_number'] = titanic['sibsp'] + titanic['parch']\n",
    "\n",
    "\n",
    "\n",
    "family_range = [-1, 0, titanic['name'].count()]\n",
    "\n",
    "family_labels = [\"No\", \"Yes\"]\n",
    "titanic[\"with_family\"] = pd.cut(titanic.family_number, family_range, labels = family_labels).astype(\"category\")\n",
    "titanic.head()"
   ]
  },
  {
   "cell_type": "markdown",
   "metadata": {},
   "source": [
    "### 2.3. Define necessary functions to apply to dataframe\n",
    "\n",
    "- Calculating percentage of a variable counts in order to draw proportional graphs in EDA."
   ]
  },
  {
   "cell_type": "code",
   "execution_count": 19,
   "metadata": {
    "collapsed": true
   },
   "outputs": [],
   "source": [
    "def calc_pct(value, total):\n",
    "    percentage = (value/total) * 100\n",
    "    return percentage"
   ]
  },
  {
   "cell_type": "markdown",
   "metadata": {},
   "source": [
    "## 3. Single Variate Exploratory Data Analysis\n",
    "### 3.1 Survival rate"
   ]
  },
  {
   "cell_type": "code",
   "execution_count": 20,
   "metadata": {},
   "outputs": [
    {
     "data": {
      "text/plain": [
       "0    809\n",
       "1    500\n",
       "Name: survived, dtype: int64"
      ]
     },
     "execution_count": 20,
     "metadata": {},
     "output_type": "execute_result"
    }
   ],
   "source": [
    "# How many people in the dataset survived?\n",
    "titanic.survived.value_counts() "
   ]
  },
  {
   "cell_type": "code",
   "execution_count": 21,
   "metadata": {},
   "outputs": [
    {
     "data": {
      "text/plain": [
       "body missing    688\n",
       "survived        500\n",
       "body found      121\n",
       "Name: status, dtype: int64"
      ]
     },
     "execution_count": 21,
     "metadata": {},
     "output_type": "execute_result"
    }
   ],
   "source": [
    "# Of those who died, 688 went without being found\n",
    "titanic.status.value_counts()"
   ]
  },
  {
   "cell_type": "code",
   "execution_count": 22,
   "metadata": {},
   "outputs": [
    {
     "data": {
      "text/plain": [
       "Text(0.5,1,'Passengers by survival status')"
      ]
     },
     "execution_count": 22,
     "metadata": {},
     "output_type": "execute_result"
    },
    {
     "data": {
      "image/png": "[encoded data removed]",
      "text/plain": [
       "<Figure size 432x288 with 1 Axes>"
      ]
     },
     "metadata": {},
     "output_type": "display_data"
    }
   ],
   "source": [
    "order = [\"survived\", \"body found\", \"body missing\"]\n",
    "titanic.status.value_counts().loc[order].plot(kind = \"bar\", alpha=0.5, color = \"g\")\n",
    "plt.title(\"Passengers by survival status\")"
   ]
  },
  {
   "cell_type": "markdown",
   "metadata": {},
   "source": [
    "### 3.2 Sex"
   ]
  },
  {
   "cell_type": "code",
   "execution_count": 23,
   "metadata": {},
   "outputs": [
    {
     "data": {
      "text/plain": [
       "male      843\n",
       "female    466\n",
       "Name: sex, dtype: int64"
      ]
     },
     "execution_count": 23,
     "metadata": {},
     "output_type": "execute_result"
    }
   ],
   "source": [
    "titanic.sex.value_counts()"
   ]
  },
  {
   "cell_type": "code",
   "execution_count": 24,
   "metadata": {},
   "outputs": [
    {
     "data": {
      "text/plain": [
       "Text(0.5,1,'Gender distribution of passengers')"
      ]
     },
     "execution_count": 24,
     "metadata": {},
     "output_type": "execute_result"
    },
    {
     "data": {
      "image/png": "[encoded data removed]",
      "text/plain": [
       "<Figure size 432x288 with 1 Axes>"
      ]
     },
     "metadata": {},
     "output_type": "display_data"
    }
   ],
   "source": [
    "titanic.sex.value_counts().plot(kind=\"bar\", alpha=0.5, color=\"g\")\n",
    "titanic.sex.value_counts().plot(kind=\"bar\", alpha=0.5, color=\"g\")\n",
    "\n",
    "plt.title(\"Gender distribution of passengers\")"
   ]
  },
  {
   "cell_type": "code",
   "execution_count": 25,
   "metadata": {},
   "outputs": [
    {
     "data": {
      "text/plain": [
       "sex     status      \n",
       "female  survived        339\n",
       "        body missing    119\n",
       "        body found        8\n",
       "male    body missing    569\n",
       "        survived        161\n",
       "        body found      113\n",
       "Name: status, dtype: int64"
      ]
     },
     "execution_count": 25,
     "metadata": {},
     "output_type": "execute_result"
    }
   ],
   "source": [
    "titanic.groupby(\"sex\").status.value_counts()"
   ]
  },
  {
   "cell_type": "code",
   "execution_count": 115,
   "metadata": {},
   "outputs": [
    {
     "data": {
      "text/html": [
       "<div>\n",
       "<style scoped>\n",
       "    .dataframe tbody tr th:only-of-type {\n",
       "        vertical-align: middle;\n",
       "    }\n",
       "\n",
       "    .dataframe tbody tr th {\n",
       "        vertical-align: top;\n",
       "    }\n",
       "\n",
       "    .dataframe thead th {\n",
       "        text-align: right;\n",
       "    }\n",
       "</style>\n",
       "<table border=\"1\" class=\"dataframe\">\n",
       "  <thead>\n",
       "    <tr style=\"text-align: right;\">\n",
       "      <th>status</th>\n",
       "      <th>body found</th>\n",
       "      <th>body missing</th>\n",
       "      <th>survived</th>\n",
       "    </tr>\n",
       "    <tr>\n",
       "      <th>sex</th>\n",
       "      <th></th>\n",
       "      <th></th>\n",
       "      <th></th>\n",
       "    </tr>\n",
       "  </thead>\n",
       "  <tbody>\n",
       "    <tr>\n",
       "      <th>female</th>\n",
       "      <td>8</td>\n",
       "      <td>119</td>\n",
       "      <td>339</td>\n",
       "    </tr>\n",
       "    <tr>\n",
       "      <th>male</th>\n",
       "      <td>113</td>\n",
       "      <td>569</td>\n",
       "      <td>161</td>\n",
       "    </tr>\n",
       "  </tbody>\n",
       "</table>\n",
       "</div>"
      ],
      "text/plain": [
       "status  body found  body missing  survived\n",
       "sex                                       \n",
       "female           8           119       339\n",
       "male           113           569       161"
      ]
     },
     "execution_count": 115,
     "metadata": {},
     "output_type": "execute_result"
    }
   ],
   "source": [
    "# Plot number of survivors, bodies found, and bodies missing by gender\n",
    "\n",
    "titanic_sex = titanic.groupby([\"sex\",\"status\"])[\"status\"].count().unstack(\"status\")\n",
    "titanic_sex"
   ]
  },
  {
   "cell_type": "code",
   "execution_count": 171,
   "metadata": {},
   "outputs": [
    {
     "data": {
      "text/plain": [
       "Text(0,0.5,'# of passengers')"
      ]
     },
     "execution_count": 171,
     "metadata": {},
     "output_type": "execute_result"
    },
    {
     "data": {
      "image/png": "[encoded data removed]",
      "text/plain": [
       "<Figure size 432x288 with 1 Axes>"
      ]
     },
     "metadata": {},
     "output_type": "display_data"
    }
   ],
   "source": [
    "titanic_sex.plot(kind=\"bar\", stacked=True, alpha=0.5)\n",
    "plt.title(\"Survival status by gender\")\n",
    "plt.ylabel(\"# of passengers\")"
   ]
  },
  {
   "cell_type": "code",
   "execution_count": 118,
   "metadata": {},
   "outputs": [
    {
     "data": {
      "text/html": [
       "<div>\n",
       "<style scoped>\n",
       "    .dataframe tbody tr th:only-of-type {\n",
       "        vertical-align: middle;\n",
       "    }\n",
       "\n",
       "    .dataframe tbody tr th {\n",
       "        vertical-align: top;\n",
       "    }\n",
       "\n",
       "    .dataframe thead th {\n",
       "        text-align: right;\n",
       "    }\n",
       "</style>\n",
       "<table border=\"1\" class=\"dataframe\">\n",
       "  <thead>\n",
       "    <tr style=\"text-align: right;\">\n",
       "      <th>status</th>\n",
       "      <th>body found</th>\n",
       "      <th>body missing</th>\n",
       "      <th>survived</th>\n",
       "    </tr>\n",
       "    <tr>\n",
       "      <th>sex</th>\n",
       "      <th></th>\n",
       "      <th></th>\n",
       "      <th></th>\n",
       "    </tr>\n",
       "  </thead>\n",
       "  <tbody>\n",
       "    <tr>\n",
       "      <th>female</th>\n",
       "      <td>1.72</td>\n",
       "      <td>25.54</td>\n",
       "      <td>72.75</td>\n",
       "    </tr>\n",
       "    <tr>\n",
       "      <th>male</th>\n",
       "      <td>13.40</td>\n",
       "      <td>67.50</td>\n",
       "      <td>19.10</td>\n",
       "    </tr>\n",
       "  </tbody>\n",
       "</table>\n",
       "</div>"
      ],
      "text/plain": [
       "status  body found  body missing  survived\n",
       "sex                                       \n",
       "female        1.72         25.54     72.75\n",
       "male         13.40         67.50     19.10"
      ]
     },
     "execution_count": 118,
     "metadata": {},
     "output_type": "execute_result"
    }
   ],
   "source": [
    "surv_pct_gender = pd.pivot_table(titanic, index='sex', columns='status', aggfunc='size')\n",
    "surv_pct_gender = surv_pct_gender.div(surv_pct_gender.sum(axis=1), axis=0)*100\n",
    "\n",
    "surv_pct_gender"
   ]
  },
  {
   "cell_type": "code",
   "execution_count": 162,
   "metadata": {},
   "outputs": [
    {
     "data": {
      "text/plain": [
       "Text(0,0.5,'%')"
      ]
     },
     "execution_count": 162,
     "metadata": {},
     "output_type": "execute_result"
    },
    {
     "data": {
      "image/png": "[encoded data removed]",
      "text/plain": [
       "<Figure size 432x288 with 1 Axes>"
      ]
     },
     "metadata": {},
     "output_type": "display_data"
    }
   ],
   "source": [
    "surv_pct_gender.plot(kind=\"bar\", stacked=True, alpha=0.5)\n",
    "plt.title(\"Survival rate by gender\")\n",
    "plt.ylabel(\"%\")"
   ]
  },
  {
   "cell_type": "code",
   "execution_count": 176,
   "metadata": {},
   "outputs": [
    {
     "data": {
      "text/plain": [
       "count      809\n",
       "unique       2\n",
       "top       male\n",
       "freq       682\n",
       "Name: sex, dtype: object"
      ]
     },
     "execution_count": 176,
     "metadata": {},
     "output_type": "execute_result"
    }
   ],
   "source": [
    "titanic_survived = titanic.copy()[titanic[\"status\"] == \"survived\"]\n",
    "titanic_notsurvived = titanic.copy()[titanic[\"survived\"] == 0]\n",
    "titanic_notsurvived.sex.describe()"
   ]
  },
  {
   "cell_type": "code",
   "execution_count": 167,
   "metadata": {},
   "outputs": [
    {
     "data": {
      "text/html": [
       "<div>\n",
       "<style scoped>\n",
       "    .dataframe tbody tr th:only-of-type {\n",
       "        vertical-align: middle;\n",
       "    }\n",
       "\n",
       "    .dataframe tbody tr th {\n",
       "        vertical-align: top;\n",
       "    }\n",
       "\n",
       "    .dataframe thead th {\n",
       "        text-align: right;\n",
       "    }\n",
       "</style>\n",
       "<table border=\"1\" class=\"dataframe\">\n",
       "  <thead>\n",
       "    <tr style=\"text-align: right;\">\n",
       "      <th>status</th>\n",
       "      <th>body found</th>\n",
       "      <th>body missing</th>\n",
       "    </tr>\n",
       "    <tr>\n",
       "      <th>sex</th>\n",
       "      <th></th>\n",
       "      <th></th>\n",
       "    </tr>\n",
       "  </thead>\n",
       "  <tbody>\n",
       "    <tr>\n",
       "      <th>female</th>\n",
       "      <td>6.30</td>\n",
       "      <td>93.70</td>\n",
       "    </tr>\n",
       "    <tr>\n",
       "      <th>male</th>\n",
       "      <td>16.57</td>\n",
       "      <td>83.43</td>\n",
       "    </tr>\n",
       "  </tbody>\n",
       "</table>\n",
       "</div>"
      ],
      "text/plain": [
       "status  body found  body missing\n",
       "sex                             \n",
       "female        6.30         93.70\n",
       "male         16.57         83.43"
      ]
     },
     "execution_count": 167,
     "metadata": {},
     "output_type": "execute_result"
    }
   ],
   "source": [
    "nonsurv_pct_gender = pd.pivot_table(titanic_notsurvived, index='sex', columns='status', aggfunc='size')\n",
    "nonsurv_pct_gender = nonsurv_pct_gender.div(nonsurv_pct_gender.sum(axis=1), axis=0)*100\n",
    "\n",
    "nonsurv_pct_gender"
   ]
  },
  {
   "cell_type": "code",
   "execution_count": 168,
   "metadata": {},
   "outputs": [
    {
     "data": {
      "text/plain": [
       "Text(0,0.5,'%')"
      ]
     },
     "execution_count": 168,
     "metadata": {},
     "output_type": "execute_result"
    },
    {
     "data": {
      "image/png": "[encoded data removed]",
      "text/plain": [
       "<Figure size 432x288 with 1 Axes>"
      ]
     },
     "metadata": {},
     "output_type": "display_data"
    }
   ],
   "source": [
    "nonsurv_pct_gender.plot(kind=\"bar\", stacked=True, alpha=0.5)\n",
    "plt.title(\"Body found rate by gender\")\n",
    "plt.ylabel(\"%\")"
   ]
  },
  {
   "cell_type": "markdown",
   "metadata": {},
   "source": [
    "### 3.3 Age"
   ]
  },
  {
   "cell_type": "code",
   "execution_count": 28,
   "metadata": {},
   "outputs": [
    {
     "data": {
      "text/plain": [
       "<matplotlib.axes._subplots.AxesSubplot at 0x1a1f2cd630>"
      ]
     },
     "execution_count": 28,
     "metadata": {},
     "output_type": "execute_result"
    },
    {
     "data": {
      "image/png": "[encoded data removed]",
      "text/plain": [
       "<Figure size 432x288 with 1 Axes>"
      ]
     },
     "metadata": {},
     "output_type": "display_data"
    }
   ],
   "source": [
    "titanic.age.hist(bins = 20, color = \"g\", alpha=0.5, edgecolor=\"w\")"
   ]
  },
  {
   "cell_type": "code",
   "execution_count": 29,
   "metadata": {},
   "outputs": [
    {
     "data": {
      "text/plain": [
       "20-30    361\n",
       "30-40    210\n",
       "10-20    162\n",
       "40-50    132\n",
       "0-10      86\n",
       "50-60     62\n",
       "60-70     27\n",
       "70-80      6\n",
       "Name: age_group, dtype: int64"
      ]
     },
     "execution_count": 29,
     "metadata": {},
     "output_type": "execute_result"
    }
   ],
   "source": [
    "titanic.age_group.value_counts()"
   ]
  },
  {
   "cell_type": "code",
   "execution_count": 30,
   "metadata": {},
   "outputs": [
    {
     "data": {
      "text/plain": [
       "<matplotlib.axes._subplots.AxesSubplot at 0x1a1f5dd160>"
      ]
     },
     "execution_count": 30,
     "metadata": {},
     "output_type": "execute_result"
    },
    {
     "data": {
      "image/png": "[encoded data removed]",
      "text/plain": [
       "<Figure size 432x288 with 1 Axes>"
      ]
     },
     "metadata": {},
     "output_type": "display_data"
    }
   ],
   "source": [
    "titanic.age_group.value_counts().loc[age_labels].plot(kind=\"bar\", color=\"g\", alpha=0.5)"
   ]
  },
  {
   "cell_type": "code",
   "execution_count": 121,
   "metadata": {},
   "outputs": [
    {
     "data": {
      "text/html": [
       "<div>\n",
       "<style scoped>\n",
       "    .dataframe tbody tr th:only-of-type {\n",
       "        vertical-align: middle;\n",
       "    }\n",
       "\n",
       "    .dataframe tbody tr th {\n",
       "        vertical-align: top;\n",
       "    }\n",
       "\n",
       "    .dataframe thead th {\n",
       "        text-align: right;\n",
       "    }\n",
       "</style>\n",
       "<table border=\"1\" class=\"dataframe\">\n",
       "  <thead>\n",
       "    <tr style=\"text-align: right;\">\n",
       "      <th>sex</th>\n",
       "      <th>female</th>\n",
       "      <th>male</th>\n",
       "    </tr>\n",
       "    <tr>\n",
       "      <th>age_group</th>\n",
       "      <th></th>\n",
       "      <th></th>\n",
       "    </tr>\n",
       "  </thead>\n",
       "  <tbody>\n",
       "    <tr>\n",
       "      <th>0-10</th>\n",
       "      <td>41</td>\n",
       "      <td>45</td>\n",
       "    </tr>\n",
       "    <tr>\n",
       "      <th>10-20</th>\n",
       "      <td>68</td>\n",
       "      <td>94</td>\n",
       "    </tr>\n",
       "    <tr>\n",
       "      <th>20-30</th>\n",
       "      <td>126</td>\n",
       "      <td>235</td>\n",
       "    </tr>\n",
       "    <tr>\n",
       "      <th>30-40</th>\n",
       "      <td>75</td>\n",
       "      <td>135</td>\n",
       "    </tr>\n",
       "    <tr>\n",
       "      <th>40-50</th>\n",
       "      <td>46</td>\n",
       "      <td>86</td>\n",
       "    </tr>\n",
       "    <tr>\n",
       "      <th>50-60</th>\n",
       "      <td>25</td>\n",
       "      <td>37</td>\n",
       "    </tr>\n",
       "    <tr>\n",
       "      <th>60-70</th>\n",
       "      <td>6</td>\n",
       "      <td>21</td>\n",
       "    </tr>\n",
       "    <tr>\n",
       "      <th>70-80</th>\n",
       "      <td>1</td>\n",
       "      <td>5</td>\n",
       "    </tr>\n",
       "  </tbody>\n",
       "</table>\n",
       "</div>"
      ],
      "text/plain": [
       "sex        female  male\n",
       "age_group              \n",
       "0-10           41    45\n",
       "10-20          68    94\n",
       "20-30         126   235\n",
       "30-40          75   135\n",
       "40-50          46    86\n",
       "50-60          25    37\n",
       "60-70           6    21\n",
       "70-80           1     5"
      ]
     },
     "execution_count": 121,
     "metadata": {},
     "output_type": "execute_result"
    }
   ],
   "source": [
    "titanic_gender_age = titanic.groupby([\"age_group\", \"sex\"])[\"sex\"].count().unstack(\"sex\")\n",
    "titanic_gender_age"
   ]
  },
  {
   "cell_type": "code",
   "execution_count": 124,
   "metadata": {},
   "outputs": [
    {
     "data": {
      "text/plain": [
       "Text(0,0.5,'# of passengers')"
      ]
     },
     "execution_count": 124,
     "metadata": {},
     "output_type": "execute_result"
    },
    {
     "data": {
      "image/png": "[encoded data removed]",
      "text/plain": [
       "<Figure size 432x288 with 1 Axes>"
      ]
     },
     "metadata": {},
     "output_type": "display_data"
    }
   ],
   "source": [
    "titanic_gender_age.plot(kind=\"bar\", stacked=False, alpha=0.5)\n",
    "plt.title(\"Gender and Age distribution of passengers\")\n",
    "plt.ylabel(\"# of passengers\")"
   ]
  },
  {
   "cell_type": "code",
   "execution_count": 127,
   "metadata": {},
   "outputs": [
    {
     "data": {
      "text/html": [
       "<div>\n",
       "<style scoped>\n",
       "    .dataframe tbody tr th:only-of-type {\n",
       "        vertical-align: middle;\n",
       "    }\n",
       "\n",
       "    .dataframe tbody tr th {\n",
       "        vertical-align: top;\n",
       "    }\n",
       "\n",
       "    .dataframe thead th {\n",
       "        text-align: right;\n",
       "    }\n",
       "</style>\n",
       "<table border=\"1\" class=\"dataframe\">\n",
       "  <thead>\n",
       "    <tr style=\"text-align: right;\">\n",
       "      <th>age_group</th>\n",
       "      <th>0-10</th>\n",
       "      <th>10-20</th>\n",
       "      <th>20-30</th>\n",
       "      <th>30-40</th>\n",
       "      <th>40-50</th>\n",
       "      <th>50-60</th>\n",
       "      <th>60-70</th>\n",
       "      <th>70-80</th>\n",
       "    </tr>\n",
       "    <tr>\n",
       "      <th>sex</th>\n",
       "      <th></th>\n",
       "      <th></th>\n",
       "      <th></th>\n",
       "      <th></th>\n",
       "      <th></th>\n",
       "      <th></th>\n",
       "      <th></th>\n",
       "      <th></th>\n",
       "    </tr>\n",
       "  </thead>\n",
       "  <tbody>\n",
       "    <tr>\n",
       "      <th>female</th>\n",
       "      <td>41</td>\n",
       "      <td>68</td>\n",
       "      <td>126</td>\n",
       "      <td>75</td>\n",
       "      <td>46</td>\n",
       "      <td>25</td>\n",
       "      <td>6</td>\n",
       "      <td>1</td>\n",
       "    </tr>\n",
       "    <tr>\n",
       "      <th>male</th>\n",
       "      <td>45</td>\n",
       "      <td>94</td>\n",
       "      <td>235</td>\n",
       "      <td>135</td>\n",
       "      <td>86</td>\n",
       "      <td>37</td>\n",
       "      <td>21</td>\n",
       "      <td>5</td>\n",
       "    </tr>\n",
       "  </tbody>\n",
       "</table>\n",
       "</div>"
      ],
      "text/plain": [
       "age_group  0-10  10-20  20-30  30-40  40-50  50-60  60-70  70-80\n",
       "sex                                                             \n",
       "female       41     68    126     75     46     25      6      1\n",
       "male         45     94    235    135     86     37     21      5"
      ]
     },
     "execution_count": 127,
     "metadata": {},
     "output_type": "execute_result"
    }
   ],
   "source": [
    "titanic_age_gender = titanic.groupby([\"sex\", \"age_group\"])[\"age_group\"].count().unstack(\"age_group\")\n",
    "titanic_age_gender"
   ]
  },
  {
   "cell_type": "code",
   "execution_count": 126,
   "metadata": {},
   "outputs": [
    {
     "data": {
      "text/plain": [
       "Text(0,0.5,'# of passengers')"
      ]
     },
     "execution_count": 126,
     "metadata": {},
     "output_type": "execute_result"
    },
    {
     "data": {
      "image/png": "[encoded data removed]",
      "text/plain": [
       "<Figure size 432x288 with 1 Axes>"
      ]
     },
     "metadata": {},
     "output_type": "display_data"
    }
   ],
   "source": [
    "titanic_age_gender.plot(kind=\"bar\", stacked=False, alpha=0.5)\n",
    "plt.title(\"Gender and Age distribution of passengers\")\n",
    "plt.ylabel(\"# of passengers\")"
   ]
  },
  {
   "cell_type": "code",
   "execution_count": 33,
   "metadata": {},
   "outputs": [
    {
     "data": {
      "text/plain": [
       "age_group  status      \n",
       "0-10       survived         50\n",
       "           body missing     35\n",
       "           body found        1\n",
       "10-20      body missing     85\n",
       "           survived         64\n",
       "           body found       13\n",
       "20-30      body missing    194\n",
       "           survived        134\n",
       "           body found       33\n",
       "30-40      body missing     89\n",
       "           survived         89\n",
       "           body found       32\n",
       "40-50      body missing     58\n",
       "           survived         52\n",
       "           body found       22\n",
       "50-60      survived         30\n",
       "           body missing     23\n",
       "           body found        9\n",
       "60-70      body missing     13\n",
       "           body found        8\n",
       "           survived          6\n",
       "70-80      body found        2\n",
       "           body missing      2\n",
       "           survived          2\n",
       "Name: status, dtype: int64"
      ]
     },
     "execution_count": 33,
     "metadata": {},
     "output_type": "execute_result"
    }
   ],
   "source": [
    "titanic.groupby(\"age_group\").status.value_counts()"
   ]
  },
  {
   "cell_type": "code",
   "execution_count": 128,
   "metadata": {},
   "outputs": [
    {
     "data": {
      "text/html": [
       "<div>\n",
       "<style scoped>\n",
       "    .dataframe tbody tr th:only-of-type {\n",
       "        vertical-align: middle;\n",
       "    }\n",
       "\n",
       "    .dataframe tbody tr th {\n",
       "        vertical-align: top;\n",
       "    }\n",
       "\n",
       "    .dataframe thead th {\n",
       "        text-align: right;\n",
       "    }\n",
       "</style>\n",
       "<table border=\"1\" class=\"dataframe\">\n",
       "  <thead>\n",
       "    <tr style=\"text-align: right;\">\n",
       "      <th>status</th>\n",
       "      <th>body found</th>\n",
       "      <th>body missing</th>\n",
       "      <th>survived</th>\n",
       "    </tr>\n",
       "    <tr>\n",
       "      <th>age_group</th>\n",
       "      <th></th>\n",
       "      <th></th>\n",
       "      <th></th>\n",
       "    </tr>\n",
       "  </thead>\n",
       "  <tbody>\n",
       "    <tr>\n",
       "      <th>0-10</th>\n",
       "      <td>1</td>\n",
       "      <td>35</td>\n",
       "      <td>50</td>\n",
       "    </tr>\n",
       "    <tr>\n",
       "      <th>10-20</th>\n",
       "      <td>13</td>\n",
       "      <td>85</td>\n",
       "      <td>64</td>\n",
       "    </tr>\n",
       "    <tr>\n",
       "      <th>20-30</th>\n",
       "      <td>33</td>\n",
       "      <td>194</td>\n",
       "      <td>134</td>\n",
       "    </tr>\n",
       "    <tr>\n",
       "      <th>30-40</th>\n",
       "      <td>32</td>\n",
       "      <td>89</td>\n",
       "      <td>89</td>\n",
       "    </tr>\n",
       "    <tr>\n",
       "      <th>40-50</th>\n",
       "      <td>22</td>\n",
       "      <td>58</td>\n",
       "      <td>52</td>\n",
       "    </tr>\n",
       "    <tr>\n",
       "      <th>50-60</th>\n",
       "      <td>9</td>\n",
       "      <td>23</td>\n",
       "      <td>30</td>\n",
       "    </tr>\n",
       "    <tr>\n",
       "      <th>60-70</th>\n",
       "      <td>8</td>\n",
       "      <td>13</td>\n",
       "      <td>6</td>\n",
       "    </tr>\n",
       "    <tr>\n",
       "      <th>70-80</th>\n",
       "      <td>2</td>\n",
       "      <td>2</td>\n",
       "      <td>2</td>\n",
       "    </tr>\n",
       "  </tbody>\n",
       "</table>\n",
       "</div>"
      ],
      "text/plain": [
       "status     body found  body missing  survived\n",
       "age_group                                    \n",
       "0-10                1            35        50\n",
       "10-20              13            85        64\n",
       "20-30              33           194       134\n",
       "30-40              32            89        89\n",
       "40-50              22            58        52\n",
       "50-60               9            23        30\n",
       "60-70               8            13         6\n",
       "70-80               2             2         2"
      ]
     },
     "execution_count": 128,
     "metadata": {},
     "output_type": "execute_result"
    }
   ],
   "source": [
    "titanic_age = titanic.groupby([\"age_group\", \"status\"])[\"status\"].count().unstack(\"status\")\n",
    "titanic_age"
   ]
  },
  {
   "cell_type": "code",
   "execution_count": 173,
   "metadata": {},
   "outputs": [
    {
     "data": {
      "text/plain": [
       "Text(0,0.5,'# of passengers')"
      ]
     },
     "execution_count": 173,
     "metadata": {},
     "output_type": "execute_result"
    },
    {
     "data": {
      "image/png": "[encoded data removed]",
      "text/plain": [
       "<Figure size 432x288 with 1 Axes>"
      ]
     },
     "metadata": {},
     "output_type": "display_data"
    }
   ],
   "source": [
    "titanic_age.plot(kind=\"bar\", stacked=True, alpha=0.5)\n",
    "plt.title(\"Survival status by age group\")\n",
    "plt.ylabel(\"# of passengers\")"
   ]
  },
  {
   "cell_type": "code",
   "execution_count": 131,
   "metadata": {},
   "outputs": [
    {
     "data": {
      "text/html": [
       "<div>\n",
       "<style scoped>\n",
       "    .dataframe tbody tr th:only-of-type {\n",
       "        vertical-align: middle;\n",
       "    }\n",
       "\n",
       "    .dataframe tbody tr th {\n",
       "        vertical-align: top;\n",
       "    }\n",
       "\n",
       "    .dataframe thead th {\n",
       "        text-align: right;\n",
       "    }\n",
       "</style>\n",
       "<table border=\"1\" class=\"dataframe\">\n",
       "  <thead>\n",
       "    <tr style=\"text-align: right;\">\n",
       "      <th>status</th>\n",
       "      <th>body found</th>\n",
       "      <th>body missing</th>\n",
       "      <th>survived</th>\n",
       "    </tr>\n",
       "    <tr>\n",
       "      <th>age_group</th>\n",
       "      <th></th>\n",
       "      <th></th>\n",
       "      <th></th>\n",
       "    </tr>\n",
       "  </thead>\n",
       "  <tbody>\n",
       "    <tr>\n",
       "      <th>0-10</th>\n",
       "      <td>1.16</td>\n",
       "      <td>40.70</td>\n",
       "      <td>58.14</td>\n",
       "    </tr>\n",
       "    <tr>\n",
       "      <th>10-20</th>\n",
       "      <td>8.02</td>\n",
       "      <td>52.47</td>\n",
       "      <td>39.51</td>\n",
       "    </tr>\n",
       "    <tr>\n",
       "      <th>20-30</th>\n",
       "      <td>9.14</td>\n",
       "      <td>53.74</td>\n",
       "      <td>37.12</td>\n",
       "    </tr>\n",
       "    <tr>\n",
       "      <th>30-40</th>\n",
       "      <td>15.24</td>\n",
       "      <td>42.38</td>\n",
       "      <td>42.38</td>\n",
       "    </tr>\n",
       "    <tr>\n",
       "      <th>40-50</th>\n",
       "      <td>16.67</td>\n",
       "      <td>43.94</td>\n",
       "      <td>39.39</td>\n",
       "    </tr>\n",
       "    <tr>\n",
       "      <th>50-60</th>\n",
       "      <td>14.52</td>\n",
       "      <td>37.10</td>\n",
       "      <td>48.39</td>\n",
       "    </tr>\n",
       "    <tr>\n",
       "      <th>60-70</th>\n",
       "      <td>29.63</td>\n",
       "      <td>48.15</td>\n",
       "      <td>22.22</td>\n",
       "    </tr>\n",
       "    <tr>\n",
       "      <th>70-80</th>\n",
       "      <td>33.33</td>\n",
       "      <td>33.33</td>\n",
       "      <td>33.33</td>\n",
       "    </tr>\n",
       "  </tbody>\n",
       "</table>\n",
       "</div>"
      ],
      "text/plain": [
       "status     body found  body missing  survived\n",
       "age_group                                    \n",
       "0-10             1.16         40.70     58.14\n",
       "10-20            8.02         52.47     39.51\n",
       "20-30            9.14         53.74     37.12\n",
       "30-40           15.24         42.38     42.38\n",
       "40-50           16.67         43.94     39.39\n",
       "50-60           14.52         37.10     48.39\n",
       "60-70           29.63         48.15     22.22\n",
       "70-80           33.33         33.33     33.33"
      ]
     },
     "execution_count": 131,
     "metadata": {},
     "output_type": "execute_result"
    }
   ],
   "source": [
    "surv_pct_age = pd.pivot_table(titanic, index=\"age_group\", columns=\"status\", aggfunc=\"size\")\n",
    "surv_pct_age = surv_pct_age.div(surv_pct_age.sum(axis=1), axis=0)*100\n",
    "surv_pct_age"
   ]
  },
  {
   "cell_type": "code",
   "execution_count": 174,
   "metadata": {},
   "outputs": [
    {
     "data": {
      "text/plain": [
       "Text(0,0.5,'%')"
      ]
     },
     "execution_count": 174,
     "metadata": {},
     "output_type": "execute_result"
    },
    {
     "data": {
      "image/png": "[encoded data removed]",
      "text/plain": [
       "<Figure size 432x288 with 1 Axes>"
      ]
     },
     "metadata": {},
     "output_type": "display_data"
    }
   ],
   "source": [
    "surv_pct_age.plot(kind=\"bar\", stacked=True, alpha=0.5)\n",
    "plt.title(\"Survival rate by age group\")\n",
    "plt.ylabel(\"%\")"
   ]
  },
  {
   "cell_type": "code",
   "execution_count": 175,
   "metadata": {},
   "outputs": [
    {
     "data": {
      "text/plain": [
       "count      121\n",
       "unique       2\n",
       "top       male\n",
       "freq       113\n",
       "Name: sex, dtype: object"
      ]
     },
     "execution_count": 175,
     "metadata": {},
     "output_type": "execute_result"
    }
   ],
   "source": [
    "titanic_bodyfound = titanic_notsurvived.copy()[titanic_notsurvived[\"body_found\"] == 1]\n",
    "titanic_bodyfound.sex.describe()"
   ]
  },
  {
   "cell_type": "code",
   "execution_count": 136,
   "metadata": {},
   "outputs": [
    {
     "data": {
      "text/html": [
       "<div>\n",
       "<style scoped>\n",
       "    .dataframe tbody tr th:only-of-type {\n",
       "        vertical-align: middle;\n",
       "    }\n",
       "\n",
       "    .dataframe tbody tr th {\n",
       "        vertical-align: top;\n",
       "    }\n",
       "\n",
       "    .dataframe thead th {\n",
       "        text-align: right;\n",
       "    }\n",
       "</style>\n",
       "<table border=\"1\" class=\"dataframe\">\n",
       "  <thead>\n",
       "    <tr style=\"text-align: right;\">\n",
       "      <th>sex</th>\n",
       "      <th>female</th>\n",
       "      <th>male</th>\n",
       "    </tr>\n",
       "    <tr>\n",
       "      <th>age_group</th>\n",
       "      <th></th>\n",
       "      <th></th>\n",
       "    </tr>\n",
       "  </thead>\n",
       "  <tbody>\n",
       "    <tr>\n",
       "      <th>0-10</th>\n",
       "      <td>25</td>\n",
       "      <td>25</td>\n",
       "    </tr>\n",
       "    <tr>\n",
       "      <th>10-20</th>\n",
       "      <td>50</td>\n",
       "      <td>14</td>\n",
       "    </tr>\n",
       "    <tr>\n",
       "      <th>20-30</th>\n",
       "      <td>91</td>\n",
       "      <td>43</td>\n",
       "    </tr>\n",
       "    <tr>\n",
       "      <th>30-40</th>\n",
       "      <td>61</td>\n",
       "      <td>28</td>\n",
       "    </tr>\n",
       "    <tr>\n",
       "      <th>40-50</th>\n",
       "      <td>36</td>\n",
       "      <td>16</td>\n",
       "    </tr>\n",
       "    <tr>\n",
       "      <th>50-60</th>\n",
       "      <td>23</td>\n",
       "      <td>7</td>\n",
       "    </tr>\n",
       "    <tr>\n",
       "      <th>60-70</th>\n",
       "      <td>5</td>\n",
       "      <td>1</td>\n",
       "    </tr>\n",
       "    <tr>\n",
       "      <th>70-80</th>\n",
       "      <td>1</td>\n",
       "      <td>1</td>\n",
       "    </tr>\n",
       "  </tbody>\n",
       "</table>\n",
       "</div>"
      ],
      "text/plain": [
       "sex        female  male\n",
       "age_group              \n",
       "0-10           25    25\n",
       "10-20          50    14\n",
       "20-30          91    43\n",
       "30-40          61    28\n",
       "40-50          36    16\n",
       "50-60          23     7\n",
       "60-70           5     1\n",
       "70-80           1     1"
      ]
     },
     "execution_count": 136,
     "metadata": {},
     "output_type": "execute_result"
    }
   ],
   "source": [
    "surv_age_gender = titanic_survived.groupby([\"age_group\", \"sex\"])[\"sex\"].count().unstack(\"sex\")\n",
    "surv_age_gender"
   ]
  },
  {
   "cell_type": "code",
   "execution_count": 137,
   "metadata": {},
   "outputs": [
    {
     "data": {
      "text/plain": [
       "Text(0.5,1,'Survivors by gender and by age group')"
      ]
     },
     "execution_count": 137,
     "metadata": {},
     "output_type": "execute_result"
    },
    {
     "data": {
      "image/png": "[encoded data removed]",
      "text/plain": [
       "<Figure size 432x288 with 1 Axes>"
      ]
     },
     "metadata": {},
     "output_type": "display_data"
    }
   ],
   "source": [
    "surv_age_gender.plot(kind=\"bar\", alpha=0.5)\n",
    "plt.title(\"Survivors by gender and by age group\")"
   ]
  },
  {
   "cell_type": "code",
   "execution_count": 142,
   "metadata": {},
   "outputs": [
    {
     "data": {
      "text/plain": [
       "<matplotlib.axes._subplots.AxesSubplot at 0x1a229e09e8>"
      ]
     },
     "execution_count": 142,
     "metadata": {},
     "output_type": "execute_result"
    },
    {
     "data": {
      "image/png": "[encoded data removed]",
      "text/plain": [
       "<Figure size 432x288 with 1 Axes>"
      ]
     },
     "metadata": {},
     "output_type": "display_data"
    }
   ],
   "source": [
    "bodyfound_age_gender = titanic_bodyfound.groupby([\"age_group\", \"sex\"])[\"sex\"].count().unstack(\"sex\")\n",
    "bodyfound_age_gender.plot(kind=\"bar\", alpha=0.5)"
   ]
  },
  {
   "cell_type": "markdown",
   "metadata": {},
   "source": [
    "### 3.4 Cabin Class"
   ]
  },
  {
   "cell_type": "code",
   "execution_count": 62,
   "metadata": {},
   "outputs": [
    {
     "data": {
      "text/plain": [
       "Third     709\n",
       "First     323\n",
       "Second    277\n",
       "Name: cabin_class, dtype: int64"
      ]
     },
     "execution_count": 62,
     "metadata": {},
     "output_type": "execute_result"
    }
   ],
   "source": [
    "titanic.cabin_class.value_counts()"
   ]
  },
  {
   "cell_type": "code",
   "execution_count": 37,
   "metadata": {
    "collapsed": true
   },
   "outputs": [
    {
     "data": {
      "text/plain": [
       "<matplotlib.axes._subplots.AxesSubplot at 0x1a1fad6b70>"
      ]
     },
     "execution_count": 37,
     "metadata": {},
     "output_type": "execute_result"
    },
    {
     "data": {
      "image/png": "[encoded data removed]",
      "text/plain": [
       "<Figure size 432x288 with 1 Axes>"
      ]
     },
     "metadata": {},
     "output_type": "display_data"
    }
   ],
   "source": [
    "titanic.cabin_class.value_counts().loc[labels].plot(kind = \"bar\", color=\"g\", alpha=0.5)"
   ]
  },
  {
   "cell_type": "code",
   "execution_count": 38,
   "metadata": {},
   "outputs": [
    {
     "data": {
      "text/plain": [
       "<matplotlib.axes._subplots.AxesSubplot at 0x1a1fc4a5c0>"
      ]
     },
     "execution_count": 38,
     "metadata": {},
     "output_type": "execute_result"
    },
    {
     "data": {
      "image/png": "[encoded data removed]",
      "text/plain": [
       "<Figure size 432x288 with 1 Axes>"
      ]
     },
     "metadata": {},
     "output_type": "display_data"
    }
   ],
   "source": [
    "titanic_class_age = titanic.groupby([\"cabin_class\", \"age_group\"])[\"age_group\"].count().unstack(\"age_group\")\n",
    "titanic_class_age.plot(kind=\"bar\", stacked=False, alpha=0.5)"
   ]
  },
  {
   "cell_type": "code",
   "execution_count": 39,
   "metadata": {},
   "outputs": [
    {
     "data": {
      "text/plain": [
       "<matplotlib.axes._subplots.AxesSubplot at 0x1a1fc6c668>"
      ]
     },
     "execution_count": 39,
     "metadata": {},
     "output_type": "execute_result"
    },
    {
     "data": {
      "image/png": "[encoded data removed]",
      "text/plain": [
       "<Figure size 432x288 with 1 Axes>"
      ]
     },
     "metadata": {},
     "output_type": "display_data"
    }
   ],
   "source": [
    "titanic_age_class = titanic.groupby([\"age_group\", \"cabin_class\"])[\"cabin_class\"].count().unstack(\"cabin_class\")\n",
    "titanic_age_class.plot(kind=\"bar\", stacked=False, alpha=0.5)"
   ]
  },
  {
   "cell_type": "code",
   "execution_count": 40,
   "metadata": {
    "collapsed": true
   },
   "outputs": [
    {
     "data": {
      "text/plain": [
       "cabin_class  status      \n",
       "First        survived        200\n",
       "             body missing     88\n",
       "             body found       35\n",
       "Second       body missing    127\n",
       "             survived        119\n",
       "             body found       31\n",
       "Third        body missing    473\n",
       "             survived        181\n",
       "             body found       55\n",
       "Name: status, dtype: int64"
      ]
     },
     "execution_count": 40,
     "metadata": {},
     "output_type": "execute_result"
    }
   ],
   "source": [
    "titanic.groupby(\"cabin_class\").status.value_counts()"
   ]
  },
  {
   "cell_type": "code",
   "execution_count": 143,
   "metadata": {
    "collapsed": true
   },
   "outputs": [
    {
     "data": {
      "text/html": [
       "<div>\n",
       "<style scoped>\n",
       "    .dataframe tbody tr th:only-of-type {\n",
       "        vertical-align: middle;\n",
       "    }\n",
       "\n",
       "    .dataframe tbody tr th {\n",
       "        vertical-align: top;\n",
       "    }\n",
       "\n",
       "    .dataframe thead th {\n",
       "        text-align: right;\n",
       "    }\n",
       "</style>\n",
       "<table border=\"1\" class=\"dataframe\">\n",
       "  <thead>\n",
       "    <tr style=\"text-align: right;\">\n",
       "      <th>status</th>\n",
       "      <th>body found</th>\n",
       "      <th>body missing</th>\n",
       "      <th>survived</th>\n",
       "    </tr>\n",
       "    <tr>\n",
       "      <th>cabin_class</th>\n",
       "      <th></th>\n",
       "      <th></th>\n",
       "      <th></th>\n",
       "    </tr>\n",
       "  </thead>\n",
       "  <tbody>\n",
       "    <tr>\n",
       "      <th>First</th>\n",
       "      <td>35</td>\n",
       "      <td>88</td>\n",
       "      <td>200</td>\n",
       "    </tr>\n",
       "    <tr>\n",
       "      <th>Second</th>\n",
       "      <td>31</td>\n",
       "      <td>127</td>\n",
       "      <td>119</td>\n",
       "    </tr>\n",
       "    <tr>\n",
       "      <th>Third</th>\n",
       "      <td>55</td>\n",
       "      <td>473</td>\n",
       "      <td>181</td>\n",
       "    </tr>\n",
       "  </tbody>\n",
       "</table>\n",
       "</div>"
      ],
      "text/plain": [
       "status       body found  body missing  survived\n",
       "cabin_class                                    \n",
       "First                35            88       200\n",
       "Second               31           127       119\n",
       "Third                55           473       181"
      ]
     },
     "execution_count": 143,
     "metadata": {},
     "output_type": "execute_result"
    }
   ],
   "source": [
    "titanic_class = titanic.groupby([\"cabin_class\", \"status\"])[\"status\"].count().unstack(\"status\")\n",
    "titanic_class"
   ]
  },
  {
   "cell_type": "code",
   "execution_count": 144,
   "metadata": {},
   "outputs": [
    {
     "data": {
      "text/plain": [
       "Text(0,0.5,'# of passengers')"
      ]
     },
     "execution_count": 144,
     "metadata": {},
     "output_type": "execute_result"
    },
    {
     "data": {
      "image/png": "[encoded data removed]",
      "text/plain": [
       "<Figure size 432x288 with 1 Axes>"
      ]
     },
     "metadata": {},
     "output_type": "display_data"
    }
   ],
   "source": [
    "titanic_class.plot(kind=\"bar\", stacked=True, alpha=0.5)\n",
    "plt.title(\"# of Survivors by cabin class\")\n",
    "plt.ylabel(\"# of passengers\")"
   ]
  },
  {
   "cell_type": "code",
   "execution_count": 145,
   "metadata": {},
   "outputs": [
    {
     "data": {
      "text/html": [
       "<div>\n",
       "<style scoped>\n",
       "    .dataframe tbody tr th:only-of-type {\n",
       "        vertical-align: middle;\n",
       "    }\n",
       "\n",
       "    .dataframe tbody tr th {\n",
       "        vertical-align: top;\n",
       "    }\n",
       "\n",
       "    .dataframe thead th {\n",
       "        text-align: right;\n",
       "    }\n",
       "</style>\n",
       "<table border=\"1\" class=\"dataframe\">\n",
       "  <thead>\n",
       "    <tr style=\"text-align: right;\">\n",
       "      <th>status</th>\n",
       "      <th>body found</th>\n",
       "      <th>body missing</th>\n",
       "      <th>survived</th>\n",
       "    </tr>\n",
       "    <tr>\n",
       "      <th>cabin_class</th>\n",
       "      <th></th>\n",
       "      <th></th>\n",
       "      <th></th>\n",
       "    </tr>\n",
       "  </thead>\n",
       "  <tbody>\n",
       "    <tr>\n",
       "      <th>First</th>\n",
       "      <td>10.84</td>\n",
       "      <td>27.24</td>\n",
       "      <td>61.92</td>\n",
       "    </tr>\n",
       "    <tr>\n",
       "      <th>Second</th>\n",
       "      <td>11.19</td>\n",
       "      <td>45.85</td>\n",
       "      <td>42.96</td>\n",
       "    </tr>\n",
       "    <tr>\n",
       "      <th>Third</th>\n",
       "      <td>7.76</td>\n",
       "      <td>66.71</td>\n",
       "      <td>25.53</td>\n",
       "    </tr>\n",
       "  </tbody>\n",
       "</table>\n",
       "</div>"
      ],
      "text/plain": [
       "status       body found  body missing  survived\n",
       "cabin_class                                    \n",
       "First             10.84         27.24     61.92\n",
       "Second            11.19         45.85     42.96\n",
       "Third              7.76         66.71     25.53"
      ]
     },
     "execution_count": 145,
     "metadata": {},
     "output_type": "execute_result"
    }
   ],
   "source": [
    "surv_pct_class = pd.pivot_table(titanic, index=\"cabin_class\", columns=\"status\", aggfunc=\"size\")\n",
    "surv_pct_class = surv_pct_class.div(surv_pct_class.sum(axis=1), axis=0)*100\n",
    "surv_pct_class"
   ]
  },
  {
   "cell_type": "code",
   "execution_count": 146,
   "metadata": {},
   "outputs": [
    {
     "data": {
      "text/plain": [
       "Text(0,0.5,'%')"
      ]
     },
     "execution_count": 146,
     "metadata": {},
     "output_type": "execute_result"
    },
    {
     "data": {
      "image/png": "[encoded data removed]",
      "text/plain": [
       "<Figure size 432x288 with 1 Axes>"
      ]
     },
     "metadata": {},
     "output_type": "display_data"
    }
   ],
   "source": [
    "surv_pct_class.plot.bar(stacked=True, alpha=0.5)\n",
    "plt.title(\"survival rate by cabin class\")\n",
    "plt.ylabel(\"%\")"
   ]
  },
  {
   "cell_type": "code",
   "execution_count": 147,
   "metadata": {},
   "outputs": [
    {
     "data": {
      "text/html": [
       "<div>\n",
       "<style scoped>\n",
       "    .dataframe tbody tr th:only-of-type {\n",
       "        vertical-align: middle;\n",
       "    }\n",
       "\n",
       "    .dataframe tbody tr th {\n",
       "        vertical-align: top;\n",
       "    }\n",
       "\n",
       "    .dataframe thead th {\n",
       "        text-align: right;\n",
       "    }\n",
       "</style>\n",
       "<table border=\"1\" class=\"dataframe\">\n",
       "  <thead>\n",
       "    <tr style=\"text-align: right;\">\n",
       "      <th>sex</th>\n",
       "      <th>female</th>\n",
       "      <th>male</th>\n",
       "    </tr>\n",
       "    <tr>\n",
       "      <th>cabin_class</th>\n",
       "      <th></th>\n",
       "      <th></th>\n",
       "    </tr>\n",
       "  </thead>\n",
       "  <tbody>\n",
       "    <tr>\n",
       "      <th>First</th>\n",
       "      <td>139</td>\n",
       "      <td>61</td>\n",
       "    </tr>\n",
       "    <tr>\n",
       "      <th>Second</th>\n",
       "      <td>94</td>\n",
       "      <td>25</td>\n",
       "    </tr>\n",
       "    <tr>\n",
       "      <th>Third</th>\n",
       "      <td>106</td>\n",
       "      <td>75</td>\n",
       "    </tr>\n",
       "  </tbody>\n",
       "</table>\n",
       "</div>"
      ],
      "text/plain": [
       "sex          female  male\n",
       "cabin_class              \n",
       "First           139    61\n",
       "Second           94    25\n",
       "Third           106    75"
      ]
     },
     "execution_count": 147,
     "metadata": {},
     "output_type": "execute_result"
    }
   ],
   "source": [
    "surv_gender_class = titanic_survived.groupby([\"cabin_class\", \"sex\"])[\"sex\"].count().unstack(\"sex\")\n",
    "surv_gender_class"
   ]
  },
  {
   "cell_type": "code",
   "execution_count": 148,
   "metadata": {},
   "outputs": [
    {
     "data": {
      "text/plain": [
       "Text(0,0.5,'# of passengers')"
      ]
     },
     "execution_count": 148,
     "metadata": {},
     "output_type": "execute_result"
    },
    {
     "data": {
      "image/png": "[encoded data removed]",
      "text/plain": [
       "<Figure size 432x288 with 1 Axes>"
      ]
     },
     "metadata": {},
     "output_type": "display_data"
    }
   ],
   "source": [
    "surv_gender_class.plot(kind=\"bar\", alpha=0.5)\n",
    "plt.title(\"# of Survivors by gender and by cabin class\")\n",
    "plt.ylabel(\"# of passengers\")"
   ]
  },
  {
   "cell_type": "code",
   "execution_count": 149,
   "metadata": {},
   "outputs": [
    {
     "data": {
      "text/html": [
       "<div>\n",
       "<style scoped>\n",
       "    .dataframe tbody tr th:only-of-type {\n",
       "        vertical-align: middle;\n",
       "    }\n",
       "\n",
       "    .dataframe tbody tr th {\n",
       "        vertical-align: top;\n",
       "    }\n",
       "\n",
       "    .dataframe thead th {\n",
       "        text-align: right;\n",
       "    }\n",
       "</style>\n",
       "<table border=\"1\" class=\"dataframe\">\n",
       "  <thead>\n",
       "    <tr style=\"text-align: right;\">\n",
       "      <th>cabin_class</th>\n",
       "      <th>First</th>\n",
       "      <th>Second</th>\n",
       "      <th>Third</th>\n",
       "    </tr>\n",
       "    <tr>\n",
       "      <th>age_group</th>\n",
       "      <th></th>\n",
       "      <th></th>\n",
       "      <th></th>\n",
       "    </tr>\n",
       "  </thead>\n",
       "  <tbody>\n",
       "    <tr>\n",
       "      <th>0-10</th>\n",
       "      <td>3.00</td>\n",
       "      <td>22.00</td>\n",
       "      <td>25.00</td>\n",
       "    </tr>\n",
       "    <tr>\n",
       "      <th>10-20</th>\n",
       "      <td>18.00</td>\n",
       "      <td>17.00</td>\n",
       "      <td>29.00</td>\n",
       "    </tr>\n",
       "    <tr>\n",
       "      <th>20-30</th>\n",
       "      <td>44.00</td>\n",
       "      <td>39.00</td>\n",
       "      <td>51.00</td>\n",
       "    </tr>\n",
       "    <tr>\n",
       "      <th>30-40</th>\n",
       "      <td>47.00</td>\n",
       "      <td>22.00</td>\n",
       "      <td>20.00</td>\n",
       "    </tr>\n",
       "    <tr>\n",
       "      <th>40-50</th>\n",
       "      <td>35.00</td>\n",
       "      <td>12.00</td>\n",
       "      <td>5.00</td>\n",
       "    </tr>\n",
       "    <tr>\n",
       "      <th>50-60</th>\n",
       "      <td>28.00</td>\n",
       "      <td>2.00</td>\n",
       "      <td>nan</td>\n",
       "    </tr>\n",
       "    <tr>\n",
       "      <th>60-70</th>\n",
       "      <td>4.00</td>\n",
       "      <td>1.00</td>\n",
       "      <td>1.00</td>\n",
       "    </tr>\n",
       "    <tr>\n",
       "      <th>70-80</th>\n",
       "      <td>2.00</td>\n",
       "      <td>nan</td>\n",
       "      <td>nan</td>\n",
       "    </tr>\n",
       "  </tbody>\n",
       "</table>\n",
       "</div>"
      ],
      "text/plain": [
       "cabin_class  First  Second  Third\n",
       "age_group                        \n",
       "0-10          3.00   22.00  25.00\n",
       "10-20        18.00   17.00  29.00\n",
       "20-30        44.00   39.00  51.00\n",
       "30-40        47.00   22.00  20.00\n",
       "40-50        35.00   12.00   5.00\n",
       "50-60        28.00    2.00    nan\n",
       "60-70         4.00    1.00   1.00\n",
       "70-80         2.00     nan    nan"
      ]
     },
     "execution_count": 149,
     "metadata": {},
     "output_type": "execute_result"
    }
   ],
   "source": [
    "surv_age_class = titanic_survived.groupby([\"age_group\", \"cabin_class\"])[\"cabin_class\"].count().unstack(\"cabin_class\")\n",
    "surv_age_class"
   ]
  },
  {
   "cell_type": "code",
   "execution_count": 151,
   "metadata": {},
   "outputs": [
    {
     "data": {
      "text/plain": [
       "Text(0,0.5,'# of passengers')"
      ]
     },
     "execution_count": 151,
     "metadata": {},
     "output_type": "execute_result"
    },
    {
     "data": {
      "image/png": "[encoded data removed]",
      "text/plain": [
       "<Figure size 432x288 with 1 Axes>"
      ]
     },
     "metadata": {},
     "output_type": "display_data"
    }
   ],
   "source": [
    "surv_age_class.plot(kind=\"bar\", alpha=0.5)\n",
    "plt.title(\"Survivors by cabin class and by age\")\n",
    "plt.ylabel(\"# of passengers\")"
   ]
  },
  {
   "cell_type": "markdown",
   "metadata": {},
   "source": [
    "### 3.5 Family"
   ]
  },
  {
   "cell_type": "code",
   "execution_count": 45,
   "metadata": {
    "collapsed": true
   },
   "outputs": [
    {
     "data": {
      "text/plain": [
       "No     790\n",
       "Yes    519\n",
       "Name: with_family, dtype: int64"
      ]
     },
     "execution_count": 45,
     "metadata": {},
     "output_type": "execute_result"
    }
   ],
   "source": [
    "titanic.with_family.value_counts()"
   ]
  },
  {
   "cell_type": "code",
   "execution_count": 46,
   "metadata": {
    "collapsed": true
   },
   "outputs": [
    {
     "data": {
      "text/plain": [
       "<matplotlib.axes._subplots.AxesSubplot at 0x1a201c3eb8>"
      ]
     },
     "execution_count": 46,
     "metadata": {},
     "output_type": "execute_result"
    },
    {
     "data": {
      "image/png": "[encoded data removed]",
      "text/plain": [
       "<Figure size 432x288 with 1 Axes>"
      ]
     },
     "metadata": {},
     "output_type": "display_data"
    }
   ],
   "source": [
    "titanic.with_family.value_counts().plot(kind=\"bar\", color=\"g\")"
   ]
  },
  {
   "cell_type": "code",
   "execution_count": 47,
   "metadata": {
    "collapsed": true
   },
   "outputs": [
    {
     "data": {
      "text/html": [
       "<div>\n",
       "<style scoped>\n",
       "    .dataframe tbody tr th:only-of-type {\n",
       "        vertical-align: middle;\n",
       "    }\n",
       "\n",
       "    .dataframe tbody tr th {\n",
       "        vertical-align: top;\n",
       "    }\n",
       "\n",
       "    .dataframe thead th {\n",
       "        text-align: right;\n",
       "    }\n",
       "</style>\n",
       "<table border=\"1\" class=\"dataframe\">\n",
       "  <thead>\n",
       "    <tr style=\"text-align: right;\">\n",
       "      <th></th>\n",
       "      <th></th>\n",
       "      <th>status</th>\n",
       "      <th>percentage</th>\n",
       "    </tr>\n",
       "    <tr>\n",
       "      <th>with_family</th>\n",
       "      <th>status</th>\n",
       "      <th></th>\n",
       "      <th></th>\n",
       "    </tr>\n",
       "  </thead>\n",
       "  <tbody>\n",
       "    <tr>\n",
       "      <th rowspan=\"3\" valign=\"top\">No</th>\n",
       "      <th>body missing</th>\n",
       "      <td>468</td>\n",
       "      <td>59.24</td>\n",
       "    </tr>\n",
       "    <tr>\n",
       "      <th>survived</th>\n",
       "      <td>239</td>\n",
       "      <td>30.25</td>\n",
       "    </tr>\n",
       "    <tr>\n",
       "      <th>body found</th>\n",
       "      <td>83</td>\n",
       "      <td>10.51</td>\n",
       "    </tr>\n",
       "    <tr>\n",
       "      <th rowspan=\"3\" valign=\"top\">Yes</th>\n",
       "      <th>survived</th>\n",
       "      <td>261</td>\n",
       "      <td>50.29</td>\n",
       "    </tr>\n",
       "    <tr>\n",
       "      <th>body missing</th>\n",
       "      <td>220</td>\n",
       "      <td>42.39</td>\n",
       "    </tr>\n",
       "    <tr>\n",
       "      <th>body found</th>\n",
       "      <td>38</td>\n",
       "      <td>7.32</td>\n",
       "    </tr>\n",
       "  </tbody>\n",
       "</table>\n",
       "</div>"
      ],
      "text/plain": [
       "                          status  percentage\n",
       "with_family status                          \n",
       "No          body missing     468       59.24\n",
       "            survived         239       30.25\n",
       "            body found        83       10.51\n",
       "Yes         survived         261       50.29\n",
       "            body missing     220       42.39\n",
       "            body found        38        7.32"
      ]
     },
     "execution_count": 47,
     "metadata": {},
     "output_type": "execute_result"
    }
   ],
   "source": [
    "# titanic.groupby(\"with_family\").status.value_counts()\n",
    "df = pd.DataFrame(titanic.groupby(\"with_family\").status.value_counts())\n",
    "df['percentage'] = calc_pct(df, df.groupby(['with_family']).transform(sum))\n",
    "df\n",
    "\n",
    "#passangers who have family has higher survival rate"
   ]
  },
  {
   "cell_type": "code",
   "execution_count": 48,
   "metadata": {
    "collapsed": true
   },
   "outputs": [
    {
     "data": {
      "text/plain": [
       "<matplotlib.axes._subplots.AxesSubplot at 0x1a20323320>"
      ]
     },
     "execution_count": 48,
     "metadata": {},
     "output_type": "execute_result"
    },
    {
     "data": {
      "image/png": "[encoded data removed]",
      "text/plain": [
       "<Figure size 432x288 with 1 Axes>"
      ]
     },
     "metadata": {},
     "output_type": "display_data"
    }
   ],
   "source": [
    "titanic_class = titanic.groupby([\"with_family\",\"status\"])[\"status\"].count().unstack(\"status\")\n",
    "titanic_class.plot(kind=\"bar\", stacked=True)"
   ]
  },
  {
   "cell_type": "code",
   "execution_count": 49,
   "metadata": {
    "scrolled": true
   },
   "outputs": [
    {
     "data": {
      "text/plain": [
       "ticket             with_family\n",
       "695                No             1\n",
       "5727               No             1\n",
       "11751              Yes            2\n",
       "11755              Yes            1\n",
       "11767              Yes            1\n",
       "11769              Yes            2\n",
       "11770              Yes            1\n",
       "11813              No             2\n",
       "11967              Yes            2\n",
       "13050              No             1\n",
       "13502              Yes            1\n",
       "13508              Yes            2\n",
       "13905              No             1\n",
       "16966              No             1\n",
       "17474              Yes            2\n",
       "17770              No             1\n",
       "19877              Yes            2\n",
       "                   No             1\n",
       "19924              No             1\n",
       "19952              No             1\n",
       "24160              No             1\n",
       "27042              No             1\n",
       "33638              Yes            3\n",
       "36928              No             1\n",
       "36947              Yes            1\n",
       "110152             No             1\n",
       "110465             No             1\n",
       "110489             No             1\n",
       "110564             No             1\n",
       "111369             No             1\n",
       "                                 ..\n",
       "STON/O 2. 3101273  No             1\n",
       "STON/O 2. 3101274  No             1\n",
       "STON/O 2. 3101275  No             1\n",
       "STON/O 2. 3101280  No             1\n",
       "STON/O 2. 3101285  Yes            1\n",
       "STON/O 2. 3101286  No             1\n",
       "STON/O 2. 3101288  No             1\n",
       "STON/O 2. 3101289  No             1\n",
       "STON/O 2. 3101291  No             1\n",
       "STON/O 2. 3101292  No             1\n",
       "STON/O 2. 3101293  No             1\n",
       "STON/O 2. 3101294  No             1\n",
       "STON/O2. 3101270   Yes            1\n",
       "STON/O2. 3101271   Yes            1\n",
       "STON/O2. 3101279   Yes            2\n",
       "STON/O2. 3101282   No             1\n",
       "STON/O2. 3101283   No             1\n",
       "STON/O2. 3101290   No             1\n",
       "STON/OQ. 369943    No             1\n",
       "SW/PP 751          No             1\n",
       "W./C. 14258        No             1\n",
       "W./C. 14260        No             1\n",
       "W./C. 14263        No             1\n",
       "W./C. 14266        No             1\n",
       "W./C. 6607         Yes            4\n",
       "W./C. 6608         Yes            5\n",
       "W./C. 6609         No             1\n",
       "W.E.P. 5734        Yes            2\n",
       "W/C 14208          No             1\n",
       "WE/P 5735          Yes            2\n",
       "Name: with_family, Length: 967, dtype: int64"
      ]
     },
     "execution_count": 49,
     "metadata": {},
     "output_type": "execute_result"
    }
   ],
   "source": [
    "# titanic.ticket.value_counts() \n",
    "titanic.groupby(\"ticket\").with_family.value_counts()"
   ]
  },
  {
   "cell_type": "code",
   "execution_count": 50,
   "metadata": {
    "collapsed": true
   },
   "outputs": [
    {
     "data": {
      "text/plain": [
       "Andersson      11\n",
       "Sage           11\n",
       "Asplund         8\n",
       "Goodwin         8\n",
       "Davies          7\n",
       "Fortune         6\n",
       "Rice            6\n",
       "Johnson         6\n",
       "Ford            6\n",
       "Skoog           6\n",
       "Panula          6\n",
       "Brown           6\n",
       "Carter          6\n",
       "Smith           6\n",
       "Kelly           5\n",
       "Palsson         5\n",
       "Lefebre         5\n",
       "Williams        5\n",
       "Ryerson         5\n",
       "Thomas          5\n",
       "Hart            4\n",
       "Olsen           4\n",
       "Johansson       4\n",
       "Herman          4\n",
       "Allison         4\n",
       "Dean            4\n",
       "Harris          4\n",
       "Johnston        4\n",
       "Hocking         4\n",
       "Becker          4\n",
       "               ..\n",
       "Guest           1\n",
       "Miles           1\n",
       "Homer           1\n",
       "Angheloff       1\n",
       "Staneff         1\n",
       "Mannion         1\n",
       "Adahl           1\n",
       "Hunt            1\n",
       "Katavelas       1\n",
       "Edvardsson      1\n",
       "Sadlier         1\n",
       "Vovk            1\n",
       "Meanwell        1\n",
       "de Mulder       1\n",
       "Brocklebank     1\n",
       "Dahl            1\n",
       "Peuchen         1\n",
       "Harrington      1\n",
       "Augustsson      1\n",
       "Cornell         1\n",
       "Farthing        1\n",
       "Lewy            1\n",
       "Gee             1\n",
       "Salkjelsvik     1\n",
       "Maenpaa         1\n",
       "Spector         1\n",
       "Clifford        1\n",
       "Malachard       1\n",
       "Hilliard        1\n",
       "Hanna           1\n",
       "Name: last_name, Length: 875, dtype: int64"
      ]
     },
     "execution_count": 50,
     "metadata": {},
     "output_type": "execute_result"
    }
   ],
   "source": [
    "titanic.last_name.value_counts() "
   ]
  },
  {
   "cell_type": "code",
   "execution_count": 51,
   "metadata": {
    "collapsed": true
   },
   "outputs": [],
   "source": [
    "# #convert to excel \n",
    "# df = pd.DataFrame(titanic)\n",
    "\n",
    "# # Create a Pandas Excel writer using XlsxWriter as the engine.\n",
    "# writer = pd.ExcelWriter('titanic_data.xlsx', engine='xlsxwriter')\n",
    "\n",
    "# # Convert the dataframe to an XlsxWriter Excel object.\n",
    "# df.to_excel(writer, sheet_name='Sheet1')\n",
    "\n",
    "# # Close the Pandas Excel writer and output the Excel file.\n",
    "# writer.save()"
   ]
  },
  {
   "cell_type": "markdown",
   "metadata": {},
   "source": [
    "### 3.5.1 Family- SIBSP"
   ]
  },
  {
   "cell_type": "code",
   "execution_count": 52,
   "metadata": {
    "collapsed": true
   },
   "outputs": [
    {
     "data": {
      "text/plain": [
       "<matplotlib.axes._subplots.AxesSubplot at 0x1a203f9358>"
      ]
     },
     "execution_count": 52,
     "metadata": {},
     "output_type": "execute_result"
    },
    {
     "data": {
      "image/png": "[encoded data removed]",
      "text/plain": [
       "<Figure size 432x288 with 1 Axes>"
      ]
     },
     "metadata": {},
     "output_type": "display_data"
    }
   ],
   "source": [
    "titanic_class = titanic.groupby([\"sibsp\",\"status\"])[\"status\"].count().unstack(\"status\")\n",
    "titanic_class.plot(kind=\"bar\", stacked=True)"
   ]
  },
  {
   "cell_type": "markdown",
   "metadata": {},
   "source": [
    "### 3.5.2 Family- PARCH"
   ]
  },
  {
   "cell_type": "code",
   "execution_count": 53,
   "metadata": {
    "collapsed": true
   },
   "outputs": [
    {
     "data": {
      "text/plain": [
       "<matplotlib.axes._subplots.AxesSubplot at 0x1a204d86d8>"
      ]
     },
     "execution_count": 53,
     "metadata": {},
     "output_type": "execute_result"
    },
    {
     "data": {
      "image/png": "[encoded data removed]",
      "text/plain": [
       "<Figure size 432x288 with 1 Axes>"
      ]
     },
     "metadata": {},
     "output_type": "display_data"
    }
   ],
   "source": [
    "titanic_class = titanic.groupby([\"parch\",\"status\"])[\"status\"].count().unstack(\"status\")\n",
    "titanic_class.plot(kind=\"bar\", stacked=True)"
   ]
  },
  {
   "cell_type": "markdown",
   "metadata": {},
   "source": [
    "### 3.6 Deck"
   ]
  },
  {
   "cell_type": "code",
   "execution_count": 54,
   "metadata": {},
   "outputs": [
    {
     "data": {
      "text/plain": [
       "C    94\n",
       "B    65\n",
       "D    46\n",
       "E    41\n",
       "F    26\n",
       "A    23\n",
       "Name: deck, dtype: int64"
      ]
     },
     "execution_count": 54,
     "metadata": {},
     "output_type": "execute_result"
    }
   ],
   "source": [
    "titanic.deck.value_counts()"
   ]
  },
  {
   "cell_type": "code",
   "execution_count": 55,
   "metadata": {},
   "outputs": [
    {
     "data": {
      "text/plain": [
       "<matplotlib.axes._subplots.AxesSubplot at 0x1a205afc18>"
      ]
     },
     "execution_count": 55,
     "metadata": {},
     "output_type": "execute_result"
    },
    {
     "data": {
      "image/png": "[encoded data removed]",
      "text/plain": [
       "<Figure size 432x288 with 1 Axes>"
      ]
     },
     "metadata": {},
     "output_type": "display_data"
    }
   ],
   "source": [
    "titanic.deck.value_counts().sort_index().plot(kind=\"bar\", color=\"g\")"
   ]
  },
  {
   "cell_type": "code",
   "execution_count": 56,
   "metadata": {},
   "outputs": [
    {
     "data": {
      "text/plain": [
       "deck  status      \n",
       "A     body missing    11\n",
       "      survived        11\n",
       "      body found       1\n",
       "B     survived        47\n",
       "      body missing    11\n",
       "      body found       7\n",
       "C     survived        57\n",
       "      body missing    26\n",
       "      body found      11\n",
       "D     survived        32\n",
       "      body missing     9\n",
       "      body found       5\n",
       "E     survived        30\n",
       "      body missing     7\n",
       "      body found       4\n",
       "F     survived        16\n",
       "      body missing     6\n",
       "      body found       4\n",
       "Name: status, dtype: int64"
      ]
     },
     "execution_count": 56,
     "metadata": {},
     "output_type": "execute_result"
    }
   ],
   "source": [
    "titanic.groupby(\"deck\").status.value_counts()"
   ]
  },
  {
   "cell_type": "code",
   "execution_count": 57,
   "metadata": {},
   "outputs": [
    {
     "data": {
      "text/plain": [
       "<matplotlib.axes._subplots.AxesSubplot at 0x1a206aa780>"
      ]
     },
     "execution_count": 57,
     "metadata": {},
     "output_type": "execute_result"
    },
    {
     "data": {
      "image/png": "[encoded data removed]",
      "text/plain": [
       "<Figure size 432x288 with 1 Axes>"
      ]
     },
     "metadata": {},
     "output_type": "display_data"
    }
   ],
   "source": [
    "titanic_deck = titanic.groupby([\"deck\",\"status\"])[\"status\"].count().unstack(\"status\")\n",
    "titanic_deck.plot(kind=\"bar\", stacked=True)"
   ]
  },
  {
   "cell_type": "markdown",
   "metadata": {},
   "source": [
    "## 5. Correlations\n",
    "### 5.1 Gender"
   ]
  },
  {
   "cell_type": "code",
   "execution_count": 177,
   "metadata": {},
   "outputs": [],
   "source": [
    "model1 = sm.ols(formula=\"survived ~ sex\", data=titanic).fit()\n",
    "# model1.summary()"
   ]
  },
  {
   "cell_type": "code",
   "execution_count": 178,
   "metadata": {},
   "outputs": [],
   "source": [
    "model2 = sm.ols(formula=\"body_found ~ sex\", data=titanic_notsurvived).fit()\n",
    "# model2.summary()"
   ]
  },
  {
   "cell_type": "markdown",
   "metadata": {},
   "source": [
    "### 5.2 Age"
   ]
  },
  {
   "cell_type": "code",
   "execution_count": 179,
   "metadata": {},
   "outputs": [],
   "source": [
    "model3 = sm.ols(formula=\"survived ~ age\", data=titanic).fit()\n",
    "# model3.summary()"
   ]
  },
  {
   "cell_type": "code",
   "execution_count": 180,
   "metadata": {},
   "outputs": [],
   "source": [
    "model4 = sm.ols(formula=\"body_found ~ age\", data=titanic_notsurvived).fit()\n",
    "# model4.summary()"
   ]
  },
  {
   "cell_type": "markdown",
   "metadata": {},
   "source": [
    "### 5.3 Class"
   ]
  },
  {
   "cell_type": "code",
   "execution_count": 181,
   "metadata": {},
   "outputs": [],
   "source": [
    "model5 = sm.ols(formula=\"survived ~ cabin_class\", data=titanic).fit()\n",
    "# model5.summary()"
   ]
  },
  {
   "cell_type": "code",
   "execution_count": 182,
   "metadata": {},
   "outputs": [],
   "source": [
    "model6 = sm.ols(formula=\"body_found ~ cabin_class\", data=titanic_notsurvived).fit()\n",
    "# model6.summary()"
   ]
  },
  {
   "cell_type": "markdown",
   "metadata": {},
   "source": [
    "### 5.4 Sex and Age"
   ]
  },
  {
   "cell_type": "code",
   "execution_count": 183,
   "metadata": {},
   "outputs": [],
   "source": [
    "model7 = sm.ols(formula=\"survived ~ sex + age\", data=titanic).fit()\n",
    "# model7.summary()"
   ]
  },
  {
   "cell_type": "markdown",
   "metadata": {},
   "source": [
    "### 5.5 Age and Sex and Class"
   ]
  },
  {
   "cell_type": "code",
   "execution_count": 184,
   "metadata": {},
   "outputs": [],
   "source": [
    "model8 = sm.ols(formula=\"survived ~ sex + age + cabin_class\", data=titanic).fit()\n",
    "# model8.summary()"
   ]
  }
 ],
 "metadata": {
  "kernelspec": {
   "display_name": "Python 3",
   "language": "python",
   "name": "python3"
  },
  "language_info": {
   "codemirror_mode": {
    "name": "ipython",
    "version": 3
   },
   "file_extension": ".py",
   "mimetype": "text/x-python",
   "name": "python",
   "nbconvert_exporter": "python",
   "pygments_lexer": "ipython3",
   "version": "3.6.5"
  }
 },
 "nbformat": 4,
 "nbformat_minor": 2
}
